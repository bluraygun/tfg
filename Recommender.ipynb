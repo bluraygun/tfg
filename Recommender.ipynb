{
 "cells": [
  {
   "cell_type": "markdown",
   "id": "3851e6cc-df9e-46f9-83a3-61f65df5ea4c",
   "metadata": {},
   "source": [
    "# Conformal prediction for Recommenders"
   ]
  },
  {
   "cell_type": "code",
   "execution_count": 1,
   "id": "6b91ccf0-c438-4bb2-b705-f4615041e210",
   "metadata": {},
   "outputs": [],
   "source": [
    "# !wget https://files.grouplens.org/datasets/movielens/ml-1m.zip\n",
    "# !unzip -o ml-1m.zip"
   ]
  },
  {
   "cell_type": "code",
   "execution_count": 2,
   "id": "cfb0c761",
   "metadata": {},
   "outputs": [
    {
     "name": "stderr",
     "output_type": "stream",
     "text": [
      "2024-05-12 17:11:43.013811: I tensorflow/core/platform/cpu_feature_guard.cc:210] This TensorFlow binary is optimized to use available CPU instructions in performance-critical operations.\n",
      "To enable the following instructions: AVX2 FMA, in other operations, rebuild TensorFlow with the appropriate compiler flags.\n"
     ]
    }
   ],
   "source": [
    "import numpy as np\n",
    "import pandas as pd\n",
    "import tensorflow.keras.backend as K\n",
    "from collections import Counter\n",
    "from itertools import chain\n",
    "from sklearn.model_selection import train_test_split\n",
    "from tensorflow.keras.layers import Dense, Embedding, Input, Lambda, Reshape\n",
    "from tensorflow.keras.models import Model\n",
    "from tensorflow.keras.preprocessing.sequence import pad_sequences\n",
    "from tensorflow.keras.preprocessing.text import Tokenizer"
   ]
  },
  {
   "cell_type": "code",
   "execution_count": 3,
   "id": "160d5627",
   "metadata": {},
   "outputs": [],
   "source": [
    "users = pd.read_csv('data/ml-1m/users.dat', sep='::', engine='python', names=['userID', 'gender', 'age', 'occupation', 'zipCode'])\n",
    "movies = pd.read_csv('data/ml-1m/movies.dat', sep='::', engine='python', names=['movieID', 'title', 'genres'], encoding='latin-1')\n",
    "ratings = pd.read_csv('data/ml-1m/ratings.dat', sep='::', engine='python', names=['userID', 'movieID', 'rating', 'timestamp'])"
   ]
  },
  {
   "cell_type": "code",
   "execution_count": 4,
   "id": "a78b0e18",
   "metadata": {},
   "outputs": [
    {
     "name": "stdout",
     "output_type": "stream",
     "text": [
      "rows: 6040\n"
     ]
    },
    {
     "data": {
      "text/html": [
       "<div>\n",
       "<style scoped>\n",
       "    .dataframe tbody tr th:only-of-type {\n",
       "        vertical-align: middle;\n",
       "    }\n",
       "\n",
       "    .dataframe tbody tr th {\n",
       "        vertical-align: top;\n",
       "    }\n",
       "\n",
       "    .dataframe thead th {\n",
       "        text-align: right;\n",
       "    }\n",
       "</style>\n",
       "<table border=\"1\" class=\"dataframe\">\n",
       "  <thead>\n",
       "    <tr style=\"text-align: right;\">\n",
       "      <th></th>\n",
       "      <th>userID</th>\n",
       "      <th>gender</th>\n",
       "      <th>age</th>\n",
       "      <th>occupation</th>\n",
       "      <th>zipCode</th>\n",
       "    </tr>\n",
       "  </thead>\n",
       "  <tbody>\n",
       "    <tr>\n",
       "      <th>0</th>\n",
       "      <td>1</td>\n",
       "      <td>F</td>\n",
       "      <td>1</td>\n",
       "      <td>10</td>\n",
       "      <td>48067</td>\n",
       "    </tr>\n",
       "    <tr>\n",
       "      <th>1</th>\n",
       "      <td>2</td>\n",
       "      <td>M</td>\n",
       "      <td>56</td>\n",
       "      <td>16</td>\n",
       "      <td>70072</td>\n",
       "    </tr>\n",
       "    <tr>\n",
       "      <th>2</th>\n",
       "      <td>3</td>\n",
       "      <td>M</td>\n",
       "      <td>25</td>\n",
       "      <td>15</td>\n",
       "      <td>55117</td>\n",
       "    </tr>\n",
       "    <tr>\n",
       "      <th>3</th>\n",
       "      <td>4</td>\n",
       "      <td>M</td>\n",
       "      <td>45</td>\n",
       "      <td>7</td>\n",
       "      <td>02460</td>\n",
       "    </tr>\n",
       "    <tr>\n",
       "      <th>4</th>\n",
       "      <td>5</td>\n",
       "      <td>M</td>\n",
       "      <td>25</td>\n",
       "      <td>20</td>\n",
       "      <td>55455</td>\n",
       "    </tr>\n",
       "  </tbody>\n",
       "</table>\n",
       "</div>"
      ],
      "text/plain": [
       "   userID gender  age  occupation zipCode\n",
       "0       1      F    1          10   48067\n",
       "1       2      M   56          16   70072\n",
       "2       3      M   25          15   55117\n",
       "3       4      M   45           7   02460\n",
       "4       5      M   25          20   55455"
      ]
     },
     "execution_count": 4,
     "metadata": {},
     "output_type": "execute_result"
    }
   ],
   "source": [
    "print(\"rows:\", users.shape[0])\n",
    "users.head()"
   ]
  },
  {
   "cell_type": "code",
   "execution_count": 5,
   "id": "3c18875d",
   "metadata": {},
   "outputs": [
    {
     "name": "stdout",
     "output_type": "stream",
     "text": [
      "rows: 3883\n"
     ]
    },
    {
     "data": {
      "text/html": [
       "<div>\n",
       "<style scoped>\n",
       "    .dataframe tbody tr th:only-of-type {\n",
       "        vertical-align: middle;\n",
       "    }\n",
       "\n",
       "    .dataframe tbody tr th {\n",
       "        vertical-align: top;\n",
       "    }\n",
       "\n",
       "    .dataframe thead th {\n",
       "        text-align: right;\n",
       "    }\n",
       "</style>\n",
       "<table border=\"1\" class=\"dataframe\">\n",
       "  <thead>\n",
       "    <tr style=\"text-align: right;\">\n",
       "      <th></th>\n",
       "      <th>movieID</th>\n",
       "      <th>title</th>\n",
       "      <th>genres</th>\n",
       "    </tr>\n",
       "  </thead>\n",
       "  <tbody>\n",
       "    <tr>\n",
       "      <th>0</th>\n",
       "      <td>1</td>\n",
       "      <td>Toy Story (1995)</td>\n",
       "      <td>Animation|Children's|Comedy</td>\n",
       "    </tr>\n",
       "    <tr>\n",
       "      <th>1</th>\n",
       "      <td>2</td>\n",
       "      <td>Jumanji (1995)</td>\n",
       "      <td>Adventure|Children's|Fantasy</td>\n",
       "    </tr>\n",
       "    <tr>\n",
       "      <th>2</th>\n",
       "      <td>3</td>\n",
       "      <td>Grumpier Old Men (1995)</td>\n",
       "      <td>Comedy|Romance</td>\n",
       "    </tr>\n",
       "    <tr>\n",
       "      <th>3</th>\n",
       "      <td>4</td>\n",
       "      <td>Waiting to Exhale (1995)</td>\n",
       "      <td>Comedy|Drama</td>\n",
       "    </tr>\n",
       "    <tr>\n",
       "      <th>4</th>\n",
       "      <td>5</td>\n",
       "      <td>Father of the Bride Part II (1995)</td>\n",
       "      <td>Comedy</td>\n",
       "    </tr>\n",
       "  </tbody>\n",
       "</table>\n",
       "</div>"
      ],
      "text/plain": [
       "   movieID                               title                        genres\n",
       "0        1                    Toy Story (1995)   Animation|Children's|Comedy\n",
       "1        2                      Jumanji (1995)  Adventure|Children's|Fantasy\n",
       "2        3             Grumpier Old Men (1995)                Comedy|Romance\n",
       "3        4            Waiting to Exhale (1995)                  Comedy|Drama\n",
       "4        5  Father of the Bride Part II (1995)                        Comedy"
      ]
     },
     "execution_count": 5,
     "metadata": {},
     "output_type": "execute_result"
    }
   ],
   "source": [
    "print(\"rows:\", movies.shape[0])\n",
    "movies.head()"
   ]
  },
  {
   "cell_type": "code",
   "execution_count": 6,
   "id": "5b649241",
   "metadata": {},
   "outputs": [
    {
     "name": "stdout",
     "output_type": "stream",
     "text": [
      "rows: 1000209\n"
     ]
    },
    {
     "data": {
      "text/html": [
       "<div>\n",
       "<style scoped>\n",
       "    .dataframe tbody tr th:only-of-type {\n",
       "        vertical-align: middle;\n",
       "    }\n",
       "\n",
       "    .dataframe tbody tr th {\n",
       "        vertical-align: top;\n",
       "    }\n",
       "\n",
       "    .dataframe thead th {\n",
       "        text-align: right;\n",
       "    }\n",
       "</style>\n",
       "<table border=\"1\" class=\"dataframe\">\n",
       "  <thead>\n",
       "    <tr style=\"text-align: right;\">\n",
       "      <th></th>\n",
       "      <th>userID</th>\n",
       "      <th>movieID</th>\n",
       "      <th>rating</th>\n",
       "      <th>timestamp</th>\n",
       "    </tr>\n",
       "  </thead>\n",
       "  <tbody>\n",
       "    <tr>\n",
       "      <th>0</th>\n",
       "      <td>1</td>\n",
       "      <td>1193</td>\n",
       "      <td>5</td>\n",
       "      <td>978300760</td>\n",
       "    </tr>\n",
       "    <tr>\n",
       "      <th>1</th>\n",
       "      <td>1</td>\n",
       "      <td>661</td>\n",
       "      <td>3</td>\n",
       "      <td>978302109</td>\n",
       "    </tr>\n",
       "    <tr>\n",
       "      <th>2</th>\n",
       "      <td>1</td>\n",
       "      <td>914</td>\n",
       "      <td>3</td>\n",
       "      <td>978301968</td>\n",
       "    </tr>\n",
       "    <tr>\n",
       "      <th>3</th>\n",
       "      <td>1</td>\n",
       "      <td>3408</td>\n",
       "      <td>4</td>\n",
       "      <td>978300275</td>\n",
       "    </tr>\n",
       "    <tr>\n",
       "      <th>4</th>\n",
       "      <td>1</td>\n",
       "      <td>2355</td>\n",
       "      <td>5</td>\n",
       "      <td>978824291</td>\n",
       "    </tr>\n",
       "  </tbody>\n",
       "</table>\n",
       "</div>"
      ],
      "text/plain": [
       "   userID  movieID  rating  timestamp\n",
       "0       1     1193       5  978300760\n",
       "1       1      661       3  978302109\n",
       "2       1      914       3  978301968\n",
       "3       1     3408       4  978300275\n",
       "4       1     2355       5  978824291"
      ]
     },
     "execution_count": 6,
     "metadata": {},
     "output_type": "execute_result"
    }
   ],
   "source": [
    "print(\"rows:\", ratings.shape[0])\n",
    "ratings.head()"
   ]
  },
  {
   "cell_type": "code",
   "execution_count": 7,
   "id": "6a1ac486",
   "metadata": {},
   "outputs": [
    {
     "name": "stdout",
     "output_type": "stream",
     "text": [
      "num_genres: 18\n",
      " {'Drama': 1603, 'Comedy': 1200, 'Action': 503, 'Thriller': 492, 'Romance': 471, 'Horror': 343, 'Adventure': 283, 'Sci-Fi': 276, \"Children's\": 251, 'Crime': 211, 'War': 143, 'Documentary': 127, 'Musical': 114, 'Mystery': 106, 'Animation': 105, 'Fantasy': 68, 'Western': 68, 'Film-Noir': 44}\n"
     ]
    }
   ],
   "source": [
    "genres = movies[\"genres\"].apply(lambda x: x.split(\"|\"))\n",
    "genres = chain.from_iterable(genres)\n",
    "count_genres = dict(Counter(genres))\n",
    "num_genres = len(count_genres)\n",
    "print(f\"num_genres: {num_genres}\\n\", dict(sorted(count_genres.items(), key=lambda item: item[1], reverse=True)))"
   ]
  },
  {
   "cell_type": "code",
   "execution_count": 8,
   "id": "02944626",
   "metadata": {},
   "outputs": [
    {
     "data": {
      "text/plain": [
       "{'drama': 1,\n",
       " 'comedy': 2,\n",
       " 'action': 3,\n",
       " 'thriller': 4,\n",
       " 'romance': 5,\n",
       " 'horror': 6,\n",
       " 'adventure': 7,\n",
       " 'sci-fi': 8,\n",
       " \"children's\": 9,\n",
       " 'crime': 10,\n",
       " 'war': 11,\n",
       " 'documentary': 12,\n",
       " 'musical': 13,\n",
       " 'mystery': 14,\n",
       " 'animation': 15,\n",
       " 'fantasy': 16,\n",
       " 'western': 17,\n",
       " 'film-noir': 18}"
      ]
     },
     "execution_count": 8,
     "metadata": {},
     "output_type": "execute_result"
    }
   ],
   "source": [
    "# lower=False?\n",
    "tokenizer = Tokenizer(split='|', filters='')\n",
    "tokenizer.fit_on_texts(movies[\"genres\"].values)\n",
    "tokenizer.word_index"
   ]
  },
  {
   "cell_type": "code",
   "execution_count": 9,
   "id": "73f6f886-633b-4689-9b04-398539f6f0c7",
   "metadata": {},
   "outputs": [],
   "source": [
    "# is this the best way?? why not three-hot?"
   ]
  },
  {
   "cell_type": "code",
   "execution_count": 10,
   "id": "226f4b42",
   "metadata": {},
   "outputs": [],
   "source": [
    "seqs = tokenizer.texts_to_sequences(movies[\"genres\"].values)\n",
    "seqs = pad_sequences(seqs, maxlen=3,padding='post').tolist()"
   ]
  },
  {
   "cell_type": "code",
   "execution_count": 11,
   "id": "91649392",
   "metadata": {},
   "outputs": [
    {
     "name": "stdout",
     "output_type": "stream",
     "text": [
      "Comedy|Romance\n",
      "[2, 5, 0]\n"
     ]
    }
   ],
   "source": [
    "idx = 2\n",
    "print(movies[\"genres\"].iloc[idx])\n",
    "print(seqs[idx])"
   ]
  },
  {
   "cell_type": "code",
   "execution_count": 12,
   "id": "41d7f127-6e21-4ea6-ae69-f50b22c53c1e",
   "metadata": {},
   "outputs": [],
   "source": [
    "movies[\"genres\"] = seqs"
   ]
  },
  {
   "cell_type": "code",
   "execution_count": 13,
   "id": "db1ba1f9-0cef-419a-a628-3d596bac894b",
   "metadata": {},
   "outputs": [
    {
     "data": {
      "text/html": [
       "<div>\n",
       "<style scoped>\n",
       "    .dataframe tbody tr th:only-of-type {\n",
       "        vertical-align: middle;\n",
       "    }\n",
       "\n",
       "    .dataframe tbody tr th {\n",
       "        vertical-align: top;\n",
       "    }\n",
       "\n",
       "    .dataframe thead th {\n",
       "        text-align: right;\n",
       "    }\n",
       "</style>\n",
       "<table border=\"1\" class=\"dataframe\">\n",
       "  <thead>\n",
       "    <tr style=\"text-align: right;\">\n",
       "      <th></th>\n",
       "      <th>userID</th>\n",
       "      <th>movieID</th>\n",
       "      <th>rating</th>\n",
       "      <th>timestamp</th>\n",
       "      <th>gender</th>\n",
       "      <th>age</th>\n",
       "      <th>occupation</th>\n",
       "      <th>zipCode</th>\n",
       "      <th>title</th>\n",
       "      <th>genres</th>\n",
       "    </tr>\n",
       "  </thead>\n",
       "  <tbody>\n",
       "    <tr>\n",
       "      <th>0</th>\n",
       "      <td>1</td>\n",
       "      <td>1193</td>\n",
       "      <td>5</td>\n",
       "      <td>978300760</td>\n",
       "      <td>F</td>\n",
       "      <td>1</td>\n",
       "      <td>10</td>\n",
       "      <td>48067</td>\n",
       "      <td>One Flew Over the Cuckoo's Nest (1975)</td>\n",
       "      <td>[1, 0, 0]</td>\n",
       "    </tr>\n",
       "    <tr>\n",
       "      <th>1</th>\n",
       "      <td>1</td>\n",
       "      <td>661</td>\n",
       "      <td>3</td>\n",
       "      <td>978302109</td>\n",
       "      <td>F</td>\n",
       "      <td>1</td>\n",
       "      <td>10</td>\n",
       "      <td>48067</td>\n",
       "      <td>James and the Giant Peach (1996)</td>\n",
       "      <td>[15, 9, 13]</td>\n",
       "    </tr>\n",
       "    <tr>\n",
       "      <th>2</th>\n",
       "      <td>1</td>\n",
       "      <td>914</td>\n",
       "      <td>3</td>\n",
       "      <td>978301968</td>\n",
       "      <td>F</td>\n",
       "      <td>1</td>\n",
       "      <td>10</td>\n",
       "      <td>48067</td>\n",
       "      <td>My Fair Lady (1964)</td>\n",
       "      <td>[13, 5, 0]</td>\n",
       "    </tr>\n",
       "    <tr>\n",
       "      <th>3</th>\n",
       "      <td>1</td>\n",
       "      <td>3408</td>\n",
       "      <td>4</td>\n",
       "      <td>978300275</td>\n",
       "      <td>F</td>\n",
       "      <td>1</td>\n",
       "      <td>10</td>\n",
       "      <td>48067</td>\n",
       "      <td>Erin Brockovich (2000)</td>\n",
       "      <td>[1, 0, 0]</td>\n",
       "    </tr>\n",
       "    <tr>\n",
       "      <th>4</th>\n",
       "      <td>1</td>\n",
       "      <td>2355</td>\n",
       "      <td>5</td>\n",
       "      <td>978824291</td>\n",
       "      <td>F</td>\n",
       "      <td>1</td>\n",
       "      <td>10</td>\n",
       "      <td>48067</td>\n",
       "      <td>Bug's Life, A (1998)</td>\n",
       "      <td>[15, 9, 2]</td>\n",
       "    </tr>\n",
       "    <tr>\n",
       "      <th>...</th>\n",
       "      <td>...</td>\n",
       "      <td>...</td>\n",
       "      <td>...</td>\n",
       "      <td>...</td>\n",
       "      <td>...</td>\n",
       "      <td>...</td>\n",
       "      <td>...</td>\n",
       "      <td>...</td>\n",
       "      <td>...</td>\n",
       "      <td>...</td>\n",
       "    </tr>\n",
       "    <tr>\n",
       "      <th>1000204</th>\n",
       "      <td>6040</td>\n",
       "      <td>1091</td>\n",
       "      <td>1</td>\n",
       "      <td>956716541</td>\n",
       "      <td>M</td>\n",
       "      <td>25</td>\n",
       "      <td>6</td>\n",
       "      <td>11106</td>\n",
       "      <td>Weekend at Bernie's (1989)</td>\n",
       "      <td>[2, 0, 0]</td>\n",
       "    </tr>\n",
       "    <tr>\n",
       "      <th>1000205</th>\n",
       "      <td>6040</td>\n",
       "      <td>1094</td>\n",
       "      <td>5</td>\n",
       "      <td>956704887</td>\n",
       "      <td>M</td>\n",
       "      <td>25</td>\n",
       "      <td>6</td>\n",
       "      <td>11106</td>\n",
       "      <td>Crying Game, The (1992)</td>\n",
       "      <td>[1, 5, 11]</td>\n",
       "    </tr>\n",
       "    <tr>\n",
       "      <th>1000206</th>\n",
       "      <td>6040</td>\n",
       "      <td>562</td>\n",
       "      <td>5</td>\n",
       "      <td>956704746</td>\n",
       "      <td>M</td>\n",
       "      <td>25</td>\n",
       "      <td>6</td>\n",
       "      <td>11106</td>\n",
       "      <td>Welcome to the Dollhouse (1995)</td>\n",
       "      <td>[2, 1, 0]</td>\n",
       "    </tr>\n",
       "    <tr>\n",
       "      <th>1000207</th>\n",
       "      <td>6040</td>\n",
       "      <td>1096</td>\n",
       "      <td>4</td>\n",
       "      <td>956715648</td>\n",
       "      <td>M</td>\n",
       "      <td>25</td>\n",
       "      <td>6</td>\n",
       "      <td>11106</td>\n",
       "      <td>Sophie's Choice (1982)</td>\n",
       "      <td>[1, 0, 0]</td>\n",
       "    </tr>\n",
       "    <tr>\n",
       "      <th>1000208</th>\n",
       "      <td>6040</td>\n",
       "      <td>1097</td>\n",
       "      <td>4</td>\n",
       "      <td>956715569</td>\n",
       "      <td>M</td>\n",
       "      <td>25</td>\n",
       "      <td>6</td>\n",
       "      <td>11106</td>\n",
       "      <td>E.T. the Extra-Terrestrial (1982)</td>\n",
       "      <td>[1, 16, 8]</td>\n",
       "    </tr>\n",
       "  </tbody>\n",
       "</table>\n",
       "<p>1000209 rows × 10 columns</p>\n",
       "</div>"
      ],
      "text/plain": [
       "         userID  movieID  rating  timestamp gender  age  occupation zipCode  \\\n",
       "0             1     1193       5  978300760      F    1          10   48067   \n",
       "1             1      661       3  978302109      F    1          10   48067   \n",
       "2             1      914       3  978301968      F    1          10   48067   \n",
       "3             1     3408       4  978300275      F    1          10   48067   \n",
       "4             1     2355       5  978824291      F    1          10   48067   \n",
       "...         ...      ...     ...        ...    ...  ...         ...     ...   \n",
       "1000204    6040     1091       1  956716541      M   25           6   11106   \n",
       "1000205    6040     1094       5  956704887      M   25           6   11106   \n",
       "1000206    6040      562       5  956704746      M   25           6   11106   \n",
       "1000207    6040     1096       4  956715648      M   25           6   11106   \n",
       "1000208    6040     1097       4  956715569      M   25           6   11106   \n",
       "\n",
       "                                          title       genres  \n",
       "0        One Flew Over the Cuckoo's Nest (1975)    [1, 0, 0]  \n",
       "1              James and the Giant Peach (1996)  [15, 9, 13]  \n",
       "2                           My Fair Lady (1964)   [13, 5, 0]  \n",
       "3                        Erin Brockovich (2000)    [1, 0, 0]  \n",
       "4                          Bug's Life, A (1998)   [15, 9, 2]  \n",
       "...                                         ...          ...  \n",
       "1000204              Weekend at Bernie's (1989)    [2, 0, 0]  \n",
       "1000205                 Crying Game, The (1992)   [1, 5, 11]  \n",
       "1000206         Welcome to the Dollhouse (1995)    [2, 1, 0]  \n",
       "1000207                  Sophie's Choice (1982)    [1, 0, 0]  \n",
       "1000208       E.T. the Extra-Terrestrial (1982)   [1, 16, 8]  \n",
       "\n",
       "[1000209 rows x 10 columns]"
      ]
     },
     "execution_count": 13,
     "metadata": {},
     "output_type": "execute_result"
    }
   ],
   "source": [
    "matrix = pd.merge(pd.merge(ratings, users), movies)\n",
    "matrix"
   ]
  },
  {
   "cell_type": "code",
   "execution_count": 14,
   "id": "a570f79a-657c-4fb4-8d57-0740ac4105c6",
   "metadata": {},
   "outputs": [],
   "source": [
    "train, test = train_test_split(matrix, test_size=0.2, random_state=7)"
   ]
  },
  {
   "cell_type": "code",
   "execution_count": 15,
   "id": "0b5f20c9-e5e7-4413-8047-02fcd0338a27",
   "metadata": {},
   "outputs": [],
   "source": [
    "def define_input_layers():\n",
    "    # numerical features\n",
    "    age = Input((1,),)\n",
    "\n",
    "    # single-level categorical features\n",
    "    userID = Input((1,))\n",
    "    movieID = Input((1,))\n",
    "\n",
    "    # multi-level categorical features\n",
    "    genres = Input((3,))\n",
    "\n",
    "    return age, userID, movieID, genres"
   ]
  },
  {
   "cell_type": "code",
   "execution_count": 16,
   "id": "badd5276-ab7e-41d0-a62f-8f0e30a01fb4",
   "metadata": {},
   "outputs": [
    {
     "data": {
      "text/plain": [
       "\"\\n    cat_ml_embed_1d = [Tensor_Mean_Pooling(name = 'embed_1d_mean')(i) for i in cat_ml_embed_1d]\\n\\n    # add all tensors\\n    y_fm_1d = Add(name = 'fm_1d_output')(num_dense_1d + cat_sl_embed_1d + cat_ml_embed_1d)\\n\\n    return y_fm_1d\\n\\ny_1d = first_order_interactions(inputs, 10, 10, 10)\\n\""
      ]
     },
     "execution_count": 16,
     "metadata": {},
     "output_type": "execute_result"
    }
   ],
   "source": [
    "def first_order_interactions(inputs, max_uid, max_mid, num_genres):\n",
    "    age, userID, movieID, genres = define_input_layers()\n",
    "\n",
    "    # all tensors are reshaped to (None, 1)\n",
    "    dense_age = Dense(1)(age)\n",
    "\n",
    "    embed_uid = Embedding(max_uid+1, 1)(userID)\n",
    "    reshape_uid = Reshape((1,))(embed_uid)\n",
    "\n",
    "    embed_mid = Embedding(max_mid+1, 1)(movieID)\n",
    "    reshape_mid = Reshape((1,))(embed_mid)\n",
    "\n",
    "    embed_genres = Embedding(num_genres+1, 1, mask_zero=True)(genres)\n",
    "\n",
    "    \n",
    "\"\"\"\n",
    "    cat_ml_embed_1d = [Tensor_Mean_Pooling(name = 'embed_1d_mean')(i) for i in cat_ml_embed_1d]\n",
    "\n",
    "    # add all tensors\n",
    "    y_fm_1d = Add(name = 'fm_1d_output')(num_dense_1d + cat_sl_embed_1d + cat_ml_embed_1d)\n",
    "\n",
    "    return y_fm_1d\n",
    "\n",
    "y_1d = first_order_interactions(inputs, 10, 10, 10)\n",
    "\"\"\""
   ]
  },
  {
   "cell_type": "code",
   "execution_count": 21,
   "id": "e00bc2d3-00eb-46f0-8b44-e3f08e832cd7",
   "metadata": {},
   "outputs": [],
   "source": [
    "def Tensor_Mean_Pooling(keepdims=False):\n",
    "    return Lambda(lambda x: K.mean(x, axis = 1, keepdims=keepdims), mask=lambda )"
   ]
  },
  {
   "cell_type": "code",
   "execution_count": 27,
   "id": "2c566a0c-5320-43fc-8298-18b8aa661c46",
   "metadata": {},
   "outputs": [
    {
     "ename": "TypeError",
     "evalue": "Embedding.compute_mask() missing 1 required positional argument: 'inputs'",
     "output_type": "error",
     "traceback": [
      "\u001b[0;31m---------------------------------------------------------------------------\u001b[0m",
      "\u001b[0;31mTypeError\u001b[0m                                 Traceback (most recent call last)",
      "Cell \u001b[0;32mIn[27], line 4\u001b[0m\n\u001b[1;32m      2\u001b[0m embed_genres \u001b[38;5;241m=\u001b[39m Embedding(\u001b[38;5;241m19\u001b[39m, \u001b[38;5;241m1\u001b[39m, mask_zero\u001b[38;5;241m=\u001b[39m\u001b[38;5;28;01mTrue\u001b[39;00m)\n\u001b[1;32m      3\u001b[0m embedded_genres \u001b[38;5;241m=\u001b[39m embed_genres(genres)\n\u001b[0;32m----> 4\u001b[0m tmp \u001b[38;5;241m=\u001b[39m Tensor_Mean_Pooling(\u001b[43membed_genres\u001b[49m\u001b[38;5;241;43m.\u001b[39;49m\u001b[43mcompute_mask\u001b[49m\u001b[43m(\u001b[49m\u001b[43m)\u001b[49m)(embed_genres)\n",
      "\u001b[0;31mTypeError\u001b[0m: Embedding.compute_mask() missing 1 required positional argument: 'inputs'"
     ]
    }
   ],
   "source": [
    "genres = Input((3,))\n",
    "embed_genres = Embedding(19, 1, mask_zero=True)\n",
    "embedded_genres = embed_genres(genres)\n",
    "tmp = Tensor_Mean_Pooling(embed_genres.compute_mask())(embed_genres)"
   ]
  },
  {
   "cell_type": "code",
   "execution_count": 23,
   "id": "5bd05816-bc9e-40da-a460-a246d654fdb3",
   "metadata": {},
   "outputs": [],
   "source": [
    "model = Model(inputs=genres, outputs=tmp)"
   ]
  },
  {
   "cell_type": "code",
   "execution_count": 24,
   "id": "81b7ba92-dca1-42e9-a821-73a031bc4494",
   "metadata": {},
   "outputs": [
    {
     "name": "stdout",
     "output_type": "stream",
     "text": [
      "\u001b[1m1/1\u001b[0m \u001b[32m━━━━━━━━━━━━━━━━━━━━\u001b[0m\u001b[37m\u001b[0m \u001b[1m0s\u001b[0m 47ms/step\n"
     ]
    },
    {
     "data": {
      "text/plain": [
       "array([[0.0011593]], dtype=float32)"
      ]
     },
     "execution_count": 24,
     "metadata": {},
     "output_type": "execute_result"
    }
   ],
   "source": [
    "model.predict(np.array([[18, 0, 1]]))"
   ]
  }
 ],
 "metadata": {
  "kernelspec": {
   "display_name": "Python 3 (ipykernel)",
   "language": "python",
   "name": "python3"
  },
  "language_info": {
   "codemirror_mode": {
    "name": "ipython",
    "version": 3
   },
   "file_extension": ".py",
   "mimetype": "text/x-python",
   "name": "python",
   "nbconvert_exporter": "python",
   "pygments_lexer": "ipython3",
   "version": "3.10.14"
  }
 },
 "nbformat": 4,
 "nbformat_minor": 5
}
