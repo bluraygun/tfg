{
 "cells": [
  {
   "cell_type": "markdown",
   "id": "3851e6cc-df9e-46f9-83a3-61f65df5ea4c",
   "metadata": {},
   "source": [
    "# Conformal prediction for Recommenders"
   ]
  },
  {
   "cell_type": "code",
   "execution_count": 1,
   "id": "6b91ccf0-c438-4bb2-b705-f4615041e210",
   "metadata": {},
   "outputs": [],
   "source": [
    "# !wget https://files.grouplens.org/datasets/movielens/ml-1m.zip\n",
    "# !unzip -o ml-1m.zip"
   ]
  },
  {
   "cell_type": "code",
   "execution_count": 2,
   "id": "cfb0c761",
   "metadata": {},
   "outputs": [
    {
     "name": "stderr",
     "output_type": "stream",
     "text": [
      "2024-05-16 03:54:06.650303: I tensorflow/core/platform/cpu_feature_guard.cc:210] This TensorFlow binary is optimized to use available CPU instructions in performance-critical operations.\n",
      "To enable the following instructions: AVX2 FMA, in other operations, rebuild TensorFlow with the appropriate compiler flags.\n"
     ]
    }
   ],
   "source": [
    "import numpy as np\n",
    "import pandas as pd\n",
    "import tensorflow as tf\n",
    "import tensorflow.keras.backend as K\n",
    "from collections import Counter\n",
    "from itertools import chain\n",
    "from sklearn.model_selection import train_test_split\n",
    "from tensorflow import keras\n",
    "from tensorflow.keras.layers import Add, Dense, Concatenate, Embedding, Input, Lambda, Layer, Multiply, Reshape, Subtract\n",
    "from tensorflow.keras.models import Model\n",
    "from tensorflow.keras.preprocessing.sequence import pad_sequences\n",
    "from tensorflow.keras.preprocessing.text import Tokenizer"
   ]
  },
  {
   "cell_type": "code",
   "execution_count": 3,
   "id": "160d5627",
   "metadata": {},
   "outputs": [],
   "source": [
    "users = pd.read_csv('data/ml-1m/users.dat', sep='::', engine='python', names=['userID', 'gender', 'age', 'occupation', 'zipCode'])\n",
    "movies = pd.read_csv('data/ml-1m/movies.dat', sep='::', engine='python', names=['movieID', 'title', 'genres'], encoding='latin-1')\n",
    "ratings = pd.read_csv('data/ml-1m/ratings.dat', sep='::', engine='python', names=['userID', 'movieID', 'rating', 'timestamp'])"
   ]
  },
  {
   "cell_type": "code",
   "execution_count": 4,
   "id": "a78b0e18",
   "metadata": {},
   "outputs": [
    {
     "name": "stdout",
     "output_type": "stream",
     "text": [
      "rows: 6040\n"
     ]
    },
    {
     "data": {
      "text/html": [
       "<div>\n",
       "<style scoped>\n",
       "    .dataframe tbody tr th:only-of-type {\n",
       "        vertical-align: middle;\n",
       "    }\n",
       "\n",
       "    .dataframe tbody tr th {\n",
       "        vertical-align: top;\n",
       "    }\n",
       "\n",
       "    .dataframe thead th {\n",
       "        text-align: right;\n",
       "    }\n",
       "</style>\n",
       "<table border=\"1\" class=\"dataframe\">\n",
       "  <thead>\n",
       "    <tr style=\"text-align: right;\">\n",
       "      <th></th>\n",
       "      <th>userID</th>\n",
       "      <th>gender</th>\n",
       "      <th>age</th>\n",
       "      <th>occupation</th>\n",
       "      <th>zipCode</th>\n",
       "    </tr>\n",
       "  </thead>\n",
       "  <tbody>\n",
       "    <tr>\n",
       "      <th>0</th>\n",
       "      <td>1</td>\n",
       "      <td>F</td>\n",
       "      <td>1</td>\n",
       "      <td>10</td>\n",
       "      <td>48067</td>\n",
       "    </tr>\n",
       "    <tr>\n",
       "      <th>1</th>\n",
       "      <td>2</td>\n",
       "      <td>M</td>\n",
       "      <td>56</td>\n",
       "      <td>16</td>\n",
       "      <td>70072</td>\n",
       "    </tr>\n",
       "    <tr>\n",
       "      <th>2</th>\n",
       "      <td>3</td>\n",
       "      <td>M</td>\n",
       "      <td>25</td>\n",
       "      <td>15</td>\n",
       "      <td>55117</td>\n",
       "    </tr>\n",
       "    <tr>\n",
       "      <th>3</th>\n",
       "      <td>4</td>\n",
       "      <td>M</td>\n",
       "      <td>45</td>\n",
       "      <td>7</td>\n",
       "      <td>02460</td>\n",
       "    </tr>\n",
       "    <tr>\n",
       "      <th>4</th>\n",
       "      <td>5</td>\n",
       "      <td>M</td>\n",
       "      <td>25</td>\n",
       "      <td>20</td>\n",
       "      <td>55455</td>\n",
       "    </tr>\n",
       "  </tbody>\n",
       "</table>\n",
       "</div>"
      ],
      "text/plain": [
       "   userID gender  age  occupation zipCode\n",
       "0       1      F    1          10   48067\n",
       "1       2      M   56          16   70072\n",
       "2       3      M   25          15   55117\n",
       "3       4      M   45           7   02460\n",
       "4       5      M   25          20   55455"
      ]
     },
     "execution_count": 4,
     "metadata": {},
     "output_type": "execute_result"
    }
   ],
   "source": [
    "print(\"rows:\", users.shape[0])\n",
    "users.head()"
   ]
  },
  {
   "cell_type": "code",
   "execution_count": 5,
   "id": "3c18875d",
   "metadata": {},
   "outputs": [
    {
     "name": "stdout",
     "output_type": "stream",
     "text": [
      "rows: 3883\n"
     ]
    },
    {
     "data": {
      "text/html": [
       "<div>\n",
       "<style scoped>\n",
       "    .dataframe tbody tr th:only-of-type {\n",
       "        vertical-align: middle;\n",
       "    }\n",
       "\n",
       "    .dataframe tbody tr th {\n",
       "        vertical-align: top;\n",
       "    }\n",
       "\n",
       "    .dataframe thead th {\n",
       "        text-align: right;\n",
       "    }\n",
       "</style>\n",
       "<table border=\"1\" class=\"dataframe\">\n",
       "  <thead>\n",
       "    <tr style=\"text-align: right;\">\n",
       "      <th></th>\n",
       "      <th>movieID</th>\n",
       "      <th>title</th>\n",
       "      <th>genres</th>\n",
       "    </tr>\n",
       "  </thead>\n",
       "  <tbody>\n",
       "    <tr>\n",
       "      <th>0</th>\n",
       "      <td>1</td>\n",
       "      <td>Toy Story (1995)</td>\n",
       "      <td>Animation|Children's|Comedy</td>\n",
       "    </tr>\n",
       "    <tr>\n",
       "      <th>1</th>\n",
       "      <td>2</td>\n",
       "      <td>Jumanji (1995)</td>\n",
       "      <td>Adventure|Children's|Fantasy</td>\n",
       "    </tr>\n",
       "    <tr>\n",
       "      <th>2</th>\n",
       "      <td>3</td>\n",
       "      <td>Grumpier Old Men (1995)</td>\n",
       "      <td>Comedy|Romance</td>\n",
       "    </tr>\n",
       "    <tr>\n",
       "      <th>3</th>\n",
       "      <td>4</td>\n",
       "      <td>Waiting to Exhale (1995)</td>\n",
       "      <td>Comedy|Drama</td>\n",
       "    </tr>\n",
       "    <tr>\n",
       "      <th>4</th>\n",
       "      <td>5</td>\n",
       "      <td>Father of the Bride Part II (1995)</td>\n",
       "      <td>Comedy</td>\n",
       "    </tr>\n",
       "  </tbody>\n",
       "</table>\n",
       "</div>"
      ],
      "text/plain": [
       "   movieID                               title                        genres\n",
       "0        1                    Toy Story (1995)   Animation|Children's|Comedy\n",
       "1        2                      Jumanji (1995)  Adventure|Children's|Fantasy\n",
       "2        3             Grumpier Old Men (1995)                Comedy|Romance\n",
       "3        4            Waiting to Exhale (1995)                  Comedy|Drama\n",
       "4        5  Father of the Bride Part II (1995)                        Comedy"
      ]
     },
     "execution_count": 5,
     "metadata": {},
     "output_type": "execute_result"
    }
   ],
   "source": [
    "print(\"rows:\", movies.shape[0])\n",
    "movies.head()"
   ]
  },
  {
   "cell_type": "code",
   "execution_count": 6,
   "id": "5b649241",
   "metadata": {},
   "outputs": [
    {
     "name": "stdout",
     "output_type": "stream",
     "text": [
      "rows: 1000209\n"
     ]
    },
    {
     "data": {
      "text/html": [
       "<div>\n",
       "<style scoped>\n",
       "    .dataframe tbody tr th:only-of-type {\n",
       "        vertical-align: middle;\n",
       "    }\n",
       "\n",
       "    .dataframe tbody tr th {\n",
       "        vertical-align: top;\n",
       "    }\n",
       "\n",
       "    .dataframe thead th {\n",
       "        text-align: right;\n",
       "    }\n",
       "</style>\n",
       "<table border=\"1\" class=\"dataframe\">\n",
       "  <thead>\n",
       "    <tr style=\"text-align: right;\">\n",
       "      <th></th>\n",
       "      <th>userID</th>\n",
       "      <th>movieID</th>\n",
       "      <th>rating</th>\n",
       "      <th>timestamp</th>\n",
       "    </tr>\n",
       "  </thead>\n",
       "  <tbody>\n",
       "    <tr>\n",
       "      <th>0</th>\n",
       "      <td>1</td>\n",
       "      <td>1193</td>\n",
       "      <td>5</td>\n",
       "      <td>978300760</td>\n",
       "    </tr>\n",
       "    <tr>\n",
       "      <th>1</th>\n",
       "      <td>1</td>\n",
       "      <td>661</td>\n",
       "      <td>3</td>\n",
       "      <td>978302109</td>\n",
       "    </tr>\n",
       "    <tr>\n",
       "      <th>2</th>\n",
       "      <td>1</td>\n",
       "      <td>914</td>\n",
       "      <td>3</td>\n",
       "      <td>978301968</td>\n",
       "    </tr>\n",
       "    <tr>\n",
       "      <th>3</th>\n",
       "      <td>1</td>\n",
       "      <td>3408</td>\n",
       "      <td>4</td>\n",
       "      <td>978300275</td>\n",
       "    </tr>\n",
       "    <tr>\n",
       "      <th>4</th>\n",
       "      <td>1</td>\n",
       "      <td>2355</td>\n",
       "      <td>5</td>\n",
       "      <td>978824291</td>\n",
       "    </tr>\n",
       "  </tbody>\n",
       "</table>\n",
       "</div>"
      ],
      "text/plain": [
       "   userID  movieID  rating  timestamp\n",
       "0       1     1193       5  978300760\n",
       "1       1      661       3  978302109\n",
       "2       1      914       3  978301968\n",
       "3       1     3408       4  978300275\n",
       "4       1     2355       5  978824291"
      ]
     },
     "execution_count": 6,
     "metadata": {},
     "output_type": "execute_result"
    }
   ],
   "source": [
    "print(\"rows:\", ratings.shape[0])\n",
    "ratings.head()"
   ]
  },
  {
   "cell_type": "code",
   "execution_count": 7,
   "id": "6a1ac486",
   "metadata": {},
   "outputs": [
    {
     "name": "stdout",
     "output_type": "stream",
     "text": [
      "num_genres: 18\n",
      " {'Drama': 1603, 'Comedy': 1200, 'Action': 503, 'Thriller': 492, 'Romance': 471, 'Horror': 343, 'Adventure': 283, 'Sci-Fi': 276, \"Children's\": 251, 'Crime': 211, 'War': 143, 'Documentary': 127, 'Musical': 114, 'Mystery': 106, 'Animation': 105, 'Fantasy': 68, 'Western': 68, 'Film-Noir': 44}\n"
     ]
    }
   ],
   "source": [
    "genres = movies[\"genres\"].apply(lambda x: x.split(\"|\"))\n",
    "genres = chain.from_iterable(genres)\n",
    "count_genres = dict(Counter(genres))\n",
    "num_genres = len(count_genres)\n",
    "print(f\"num_genres: {num_genres}\\n\", dict(sorted(count_genres.items(), key=lambda item: item[1], reverse=True)))"
   ]
  },
  {
   "cell_type": "code",
   "execution_count": 8,
   "id": "02944626",
   "metadata": {},
   "outputs": [
    {
     "data": {
      "text/plain": [
       "{'drama': 1,\n",
       " 'comedy': 2,\n",
       " 'action': 3,\n",
       " 'thriller': 4,\n",
       " 'romance': 5,\n",
       " 'horror': 6,\n",
       " 'adventure': 7,\n",
       " 'sci-fi': 8,\n",
       " \"children's\": 9,\n",
       " 'crime': 10,\n",
       " 'war': 11,\n",
       " 'documentary': 12,\n",
       " 'musical': 13,\n",
       " 'mystery': 14,\n",
       " 'animation': 15,\n",
       " 'fantasy': 16,\n",
       " 'western': 17,\n",
       " 'film-noir': 18}"
      ]
     },
     "execution_count": 8,
     "metadata": {},
     "output_type": "execute_result"
    }
   ],
   "source": [
    "# lower=False?\n",
    "tokenizer = Tokenizer(split='|', filters='')\n",
    "tokenizer.fit_on_texts(movies[\"genres\"].values)\n",
    "tokenizer.word_index"
   ]
  },
  {
   "cell_type": "code",
   "execution_count": 9,
   "id": "73f6f886-633b-4689-9b04-398539f6f0c7",
   "metadata": {},
   "outputs": [],
   "source": [
    "# is this the best way?? why not three-hot? with encoding_initializer='eye'"
   ]
  },
  {
   "cell_type": "code",
   "execution_count": 10,
   "id": "226f4b42",
   "metadata": {},
   "outputs": [],
   "source": [
    "seqs = tokenizer.texts_to_sequences(movies[\"genres\"].values)\n",
    "seqs = pad_sequences(seqs, maxlen=3,padding='post').tolist()"
   ]
  },
  {
   "cell_type": "code",
   "execution_count": 11,
   "id": "91649392",
   "metadata": {},
   "outputs": [
    {
     "name": "stdout",
     "output_type": "stream",
     "text": [
      "Comedy|Romance\n",
      "[2, 5, 0]\n"
     ]
    }
   ],
   "source": [
    "idx = 2\n",
    "print(movies[\"genres\"].iloc[idx])\n",
    "print(seqs[idx])"
   ]
  },
  {
   "cell_type": "code",
   "execution_count": 12,
   "id": "41d7f127-6e21-4ea6-ae69-f50b22c53c1e",
   "metadata": {},
   "outputs": [],
   "source": [
    "movies[\"genres\"] = seqs"
   ]
  },
  {
   "cell_type": "code",
   "execution_count": 13,
   "id": "db1ba1f9-0cef-419a-a628-3d596bac894b",
   "metadata": {},
   "outputs": [
    {
     "data": {
      "text/html": [
       "<div>\n",
       "<style scoped>\n",
       "    .dataframe tbody tr th:only-of-type {\n",
       "        vertical-align: middle;\n",
       "    }\n",
       "\n",
       "    .dataframe tbody tr th {\n",
       "        vertical-align: top;\n",
       "    }\n",
       "\n",
       "    .dataframe thead th {\n",
       "        text-align: right;\n",
       "    }\n",
       "</style>\n",
       "<table border=\"1\" class=\"dataframe\">\n",
       "  <thead>\n",
       "    <tr style=\"text-align: right;\">\n",
       "      <th></th>\n",
       "      <th>userID</th>\n",
       "      <th>movieID</th>\n",
       "      <th>rating</th>\n",
       "      <th>timestamp</th>\n",
       "      <th>gender</th>\n",
       "      <th>age</th>\n",
       "      <th>occupation</th>\n",
       "      <th>zipCode</th>\n",
       "      <th>title</th>\n",
       "      <th>genres</th>\n",
       "    </tr>\n",
       "  </thead>\n",
       "  <tbody>\n",
       "    <tr>\n",
       "      <th>0</th>\n",
       "      <td>1</td>\n",
       "      <td>1193</td>\n",
       "      <td>5</td>\n",
       "      <td>978300760</td>\n",
       "      <td>F</td>\n",
       "      <td>1</td>\n",
       "      <td>10</td>\n",
       "      <td>48067</td>\n",
       "      <td>One Flew Over the Cuckoo's Nest (1975)</td>\n",
       "      <td>[1, 0, 0]</td>\n",
       "    </tr>\n",
       "    <tr>\n",
       "      <th>1</th>\n",
       "      <td>1</td>\n",
       "      <td>661</td>\n",
       "      <td>3</td>\n",
       "      <td>978302109</td>\n",
       "      <td>F</td>\n",
       "      <td>1</td>\n",
       "      <td>10</td>\n",
       "      <td>48067</td>\n",
       "      <td>James and the Giant Peach (1996)</td>\n",
       "      <td>[15, 9, 13]</td>\n",
       "    </tr>\n",
       "    <tr>\n",
       "      <th>2</th>\n",
       "      <td>1</td>\n",
       "      <td>914</td>\n",
       "      <td>3</td>\n",
       "      <td>978301968</td>\n",
       "      <td>F</td>\n",
       "      <td>1</td>\n",
       "      <td>10</td>\n",
       "      <td>48067</td>\n",
       "      <td>My Fair Lady (1964)</td>\n",
       "      <td>[13, 5, 0]</td>\n",
       "    </tr>\n",
       "    <tr>\n",
       "      <th>3</th>\n",
       "      <td>1</td>\n",
       "      <td>3408</td>\n",
       "      <td>4</td>\n",
       "      <td>978300275</td>\n",
       "      <td>F</td>\n",
       "      <td>1</td>\n",
       "      <td>10</td>\n",
       "      <td>48067</td>\n",
       "      <td>Erin Brockovich (2000)</td>\n",
       "      <td>[1, 0, 0]</td>\n",
       "    </tr>\n",
       "    <tr>\n",
       "      <th>4</th>\n",
       "      <td>1</td>\n",
       "      <td>2355</td>\n",
       "      <td>5</td>\n",
       "      <td>978824291</td>\n",
       "      <td>F</td>\n",
       "      <td>1</td>\n",
       "      <td>10</td>\n",
       "      <td>48067</td>\n",
       "      <td>Bug's Life, A (1998)</td>\n",
       "      <td>[15, 9, 2]</td>\n",
       "    </tr>\n",
       "    <tr>\n",
       "      <th>...</th>\n",
       "      <td>...</td>\n",
       "      <td>...</td>\n",
       "      <td>...</td>\n",
       "      <td>...</td>\n",
       "      <td>...</td>\n",
       "      <td>...</td>\n",
       "      <td>...</td>\n",
       "      <td>...</td>\n",
       "      <td>...</td>\n",
       "      <td>...</td>\n",
       "    </tr>\n",
       "    <tr>\n",
       "      <th>1000204</th>\n",
       "      <td>6040</td>\n",
       "      <td>1091</td>\n",
       "      <td>1</td>\n",
       "      <td>956716541</td>\n",
       "      <td>M</td>\n",
       "      <td>25</td>\n",
       "      <td>6</td>\n",
       "      <td>11106</td>\n",
       "      <td>Weekend at Bernie's (1989)</td>\n",
       "      <td>[2, 0, 0]</td>\n",
       "    </tr>\n",
       "    <tr>\n",
       "      <th>1000205</th>\n",
       "      <td>6040</td>\n",
       "      <td>1094</td>\n",
       "      <td>5</td>\n",
       "      <td>956704887</td>\n",
       "      <td>M</td>\n",
       "      <td>25</td>\n",
       "      <td>6</td>\n",
       "      <td>11106</td>\n",
       "      <td>Crying Game, The (1992)</td>\n",
       "      <td>[1, 5, 11]</td>\n",
       "    </tr>\n",
       "    <tr>\n",
       "      <th>1000206</th>\n",
       "      <td>6040</td>\n",
       "      <td>562</td>\n",
       "      <td>5</td>\n",
       "      <td>956704746</td>\n",
       "      <td>M</td>\n",
       "      <td>25</td>\n",
       "      <td>6</td>\n",
       "      <td>11106</td>\n",
       "      <td>Welcome to the Dollhouse (1995)</td>\n",
       "      <td>[2, 1, 0]</td>\n",
       "    </tr>\n",
       "    <tr>\n",
       "      <th>1000207</th>\n",
       "      <td>6040</td>\n",
       "      <td>1096</td>\n",
       "      <td>4</td>\n",
       "      <td>956715648</td>\n",
       "      <td>M</td>\n",
       "      <td>25</td>\n",
       "      <td>6</td>\n",
       "      <td>11106</td>\n",
       "      <td>Sophie's Choice (1982)</td>\n",
       "      <td>[1, 0, 0]</td>\n",
       "    </tr>\n",
       "    <tr>\n",
       "      <th>1000208</th>\n",
       "      <td>6040</td>\n",
       "      <td>1097</td>\n",
       "      <td>4</td>\n",
       "      <td>956715569</td>\n",
       "      <td>M</td>\n",
       "      <td>25</td>\n",
       "      <td>6</td>\n",
       "      <td>11106</td>\n",
       "      <td>E.T. the Extra-Terrestrial (1982)</td>\n",
       "      <td>[1, 16, 8]</td>\n",
       "    </tr>\n",
       "  </tbody>\n",
       "</table>\n",
       "<p>1000209 rows × 10 columns</p>\n",
       "</div>"
      ],
      "text/plain": [
       "         userID  movieID  rating  timestamp gender  age  occupation zipCode  \\\n",
       "0             1     1193       5  978300760      F    1          10   48067   \n",
       "1             1      661       3  978302109      F    1          10   48067   \n",
       "2             1      914       3  978301968      F    1          10   48067   \n",
       "3             1     3408       4  978300275      F    1          10   48067   \n",
       "4             1     2355       5  978824291      F    1          10   48067   \n",
       "...         ...      ...     ...        ...    ...  ...         ...     ...   \n",
       "1000204    6040     1091       1  956716541      M   25           6   11106   \n",
       "1000205    6040     1094       5  956704887      M   25           6   11106   \n",
       "1000206    6040      562       5  956704746      M   25           6   11106   \n",
       "1000207    6040     1096       4  956715648      M   25           6   11106   \n",
       "1000208    6040     1097       4  956715569      M   25           6   11106   \n",
       "\n",
       "                                          title       genres  \n",
       "0        One Flew Over the Cuckoo's Nest (1975)    [1, 0, 0]  \n",
       "1              James and the Giant Peach (1996)  [15, 9, 13]  \n",
       "2                           My Fair Lady (1964)   [13, 5, 0]  \n",
       "3                        Erin Brockovich (2000)    [1, 0, 0]  \n",
       "4                          Bug's Life, A (1998)   [15, 9, 2]  \n",
       "...                                         ...          ...  \n",
       "1000204              Weekend at Bernie's (1989)    [2, 0, 0]  \n",
       "1000205                 Crying Game, The (1992)   [1, 5, 11]  \n",
       "1000206         Welcome to the Dollhouse (1995)    [2, 1, 0]  \n",
       "1000207                  Sophie's Choice (1982)    [1, 0, 0]  \n",
       "1000208       E.T. the Extra-Terrestrial (1982)   [1, 16, 8]  \n",
       "\n",
       "[1000209 rows x 10 columns]"
      ]
     },
     "execution_count": 13,
     "metadata": {},
     "output_type": "execute_result"
    }
   ],
   "source": [
    "matrix = pd.merge(pd.merge(ratings, users), movies)\n",
    "matrix"
   ]
  },
  {
   "cell_type": "code",
   "execution_count": 14,
   "id": "a570f79a-657c-4fb4-8d57-0740ac4105c6",
   "metadata": {},
   "outputs": [],
   "source": [
    "train, test = train_test_split(matrix, test_size=0.2, random_state=7)"
   ]
  },
  {
   "cell_type": "code",
   "execution_count": 15,
   "id": "0b5f20c9-e5e7-4413-8047-02fcd0338a27",
   "metadata": {},
   "outputs": [],
   "source": [
    "def define_input_layers():\n",
    "    # numerical features\n",
    "    age = Input((1,))\n",
    "\n",
    "    # single-level categorical features\n",
    "    userID = Input((1,))\n",
    "    movieID = Input((1,))\n",
    "\n",
    "    # multi-level categorical features\n",
    "    genres = Input((3,))\n",
    "\n",
    "    return age, userID, movieID, genres"
   ]
  },
  {
   "cell_type": "code",
   "execution_count": 146,
   "id": "badd5276-ab7e-41d0-a62f-8f0e30a01fb4",
   "metadata": {},
   "outputs": [],
   "source": [
    "class Tensor_Mean_Pooling(tf.keras.layers.Layer):\n",
    "    def __init__(self, **kwargs):\n",
    "        super().__init__(**kwargs)\n",
    "\n",
    "    def call(self, inputs, mask):\n",
    "        tf.print(\"inputs:\", inputs)\n",
    "        #tensor = tf.reshape(inputs, [1, 3])\n",
    "        mask = tf.cast(mask, inputs.dtype)\n",
    "        tf.print(\"mask:\", mask)\n",
    "        masked_inputs = tf.multiply(inputs, mask)\n",
    "        tf.print(\"masked_tensor:\", masked_inputs)\n",
    "        masked_sum = K.sum(masked_inputs, axis=1)\n",
    "        valid_count = K.sum(mask, axis=1)\n",
    "        division = tf.math.divide(masked_sum, valid_count)\n",
    "        return division\n",
    "        #tf.print(\"TMP:\", division.shape)\n",
    "        return tf.reshape(division, [1, 1])\n",
    "\n",
    "    def compute_mask(self, inputs, mask=None):\n",
    "        return mask\n",
    "\n",
    "def first_order_interactions(inputs, max_uid, max_mid, num_genres):\n",
    "    age, userID, movieID, genres = inputs\n",
    "\n",
    "    # all tensors are reshaped to (None, 1)\n",
    "    dense_age = Dense(1)(age)\n",
    "\n",
    "    embedded_uid = Embedding(max_uid+1, 1)(userID)\n",
    "    reshaped_uid = Reshape((1,))(embedded_uid)\n",
    "\n",
    "    embedded_mid = Embedding(max_mid+1, 1)(movieID)\n",
    "    reshaped_mid = Reshape((1,))(embedded_mid)\n",
    "\n",
    "    embedded_genres = Embedding(num_genres+1, 1, mask_zero=True)(genres)\n",
    "    genres_mean = Tensor_Mean_Pooling()(embedded_genres, embedded_genres._keras_mask)\n",
    "\n",
    "    y_1st_order = Add()([dense_age, reshaped_uid, reshaped_mid, genres_mean])\n",
    "    return y_1st_order"
   ]
  },
  {
   "cell_type": "code",
   "execution_count": 147,
   "id": "2c566a0c-5320-43fc-8298-18b8aa661c46",
   "metadata": {},
   "outputs": [],
   "source": [
    "genres = Input((3,))\n",
    "embedded_genres = Embedding(19, 1, mask_zero=True)(genres)\n",
    "mask = embedded_genres._keras_mask"
   ]
  },
  {
   "cell_type": "code",
   "execution_count": 148,
   "id": "eee2aef4-7f69-464f-b540-3cecbf980535",
   "metadata": {},
   "outputs": [],
   "source": [
    "tmp = Tensor_Mean_Pooling()(embedded_genres, mask)\n",
    "model = Model(inputs=genres, outputs=tmp)"
   ]
  },
  {
   "cell_type": "code",
   "execution_count": 149,
   "id": "e195e8ab-c724-4bbb-9483-75aaabd13d26",
   "metadata": {},
   "outputs": [
    {
     "name": "stdout",
     "output_type": "stream",
     "text": [
      "inputs: [[[-0.0340298414]\n",
      "  [-0.0340298414]\n",
      "  [-0.0340298414]]]\n",
      "mask: [[1 1 1]]\n",
      "masked_tensor: [[[-0.0340298414 -0.0340298414 -0.0340298414]\n",
      "  [-0.0340298414 -0.0340298414 -0.0340298414]\n",
      "  [-0.0340298414 -0.0340298414 -0.0340298414]]]\n",
      "\u001b[1m1/1\u001b[0m \u001b[32m━━━━━━━━━━━━━━━━━━━━\u001b[0m\u001b[37m\u001b[0m \u001b[1m0s\u001b[0m 69ms/step\n"
     ]
    },
    {
     "data": {
      "text/plain": [
       "array([[-0.03402984, -0.03402984, -0.03402984]], dtype=float32)"
      ]
     },
     "execution_count": 149,
     "metadata": {},
     "output_type": "execute_result"
    }
   ],
   "source": [
    "model.predict(np.array([[18, 18, 18]]))"
   ]
  },
  {
   "cell_type": "code",
   "execution_count": 150,
   "id": "6a4d7f7d-2088-4b56-a8eb-2d2541999e70",
   "metadata": {},
   "outputs": [
    {
     "name": "stdout",
     "output_type": "stream",
     "text": [
      "inputs: [[[-0.0340298414]\n",
      "  [0.0233243]\n",
      "  [0.0233243]]]\n",
      "mask: [[1 0 0]]\n",
      "masked_tensor: [[[-0.0340298414 -0 -0]\n",
      "  [0.0233243 0 0]\n",
      "  [0.0233243 0 0]]]\n",
      "\u001b[1m1/1\u001b[0m \u001b[32m━━━━━━━━━━━━━━━━━━━━\u001b[0m\u001b[37m\u001b[0m \u001b[1m0s\u001b[0m 78ms/step\n"
     ]
    },
    {
     "data": {
      "text/plain": [
       "array([[0.01261876, 0.        , 0.        ]], dtype=float32)"
      ]
     },
     "execution_count": 150,
     "metadata": {},
     "output_type": "execute_result"
    }
   ],
   "source": [
    "model.predict(np.array([[18, 0, 0]]))"
   ]
  },
  {
   "cell_type": "code",
   "execution_count": 108,
   "id": "492a4d54-3f05-4268-8155-478f004a644e",
   "metadata": {},
   "outputs": [],
   "source": [
    "def Tensor_Mean_Pooling2(keepdims=False):\n",
    "    def f(x):\n",
    "        mean = K.mean(x, axis=1, keepdims=keepdims)\n",
    "        tf.print(\"TMP2:\", x.shape)\n",
    "        return mean\n",
    "    return Lambda(f)\n",
    "\n",
    "def second_order_interactions(inputs, max_uid, max_mid, num_genres, k):\n",
    "    age, userID, movieID, genres = inputs\n",
    "\n",
    "    dense_age = Dense(k)(age)  # shape (None, k)\n",
    "    reshaped_age = Reshape((1,k))(dense_age)  # shape (None, 1, k)\n",
    "\n",
    "    embedded_uid = Embedding(max_uid+1, k)(userID)\n",
    "\n",
    "    embedded_mid = Embedding(max_mid+1, k)(movieID)  # shape (None, 1, k)\n",
    "\n",
    "    embedded_genres = Embedding(num_genres+1, k)(genres)  # shape (None, 3, k)\n",
    "    genres_mean = Tensor_Mean_Pooling2(keepdims=True)(embedded_genres)  # shape (None, 1, k)\n",
    "\n",
    "    # concatenate all 2d embedded layers => (None, ?, k)\n",
    "    embedded_2d = Concatenate(axis=1)([reshaped_age, embedded_uid, embedded_mid, genres_mean])\n",
    "\n",
    "    # calcuate the interactions by simplication\n",
    "    # sum of (x1*x2) = 0.5*[sum of (xi)^2 - sum of (xi^2)]\n",
    "    tensor_sum = Lambda(lambda x: K.sum(x, axis=1))\n",
    "    tensor_square = Lambda(lambda x: K.square(x))\n",
    "\n",
    "    sum_of_embedded = tensor_sum(embedded_2d)\n",
    "    square_of_embedded = tensor_square(embedded_2d)\n",
    "\n",
    "    square_of_sum = Multiply()([sum_of_embedded, sum_of_embedded])\n",
    "    sum_of_square = tensor_sum(square_of_embedded)\n",
    "\n",
    "    sub = Subtract()([square_of_sum, sum_of_square])\n",
    "    sub = Lambda(lambda x: x*0.5)(sub)\n",
    "    y_2nd_order = Reshape((1,))(tensor_sum(sub))\n",
    "    \n",
    "    return y_2nd_order, embedded_2d"
   ]
  },
  {
   "cell_type": "markdown",
   "id": "82f3da2d-54c3-4ec9-981f-910db926a1a6",
   "metadata": {},
   "source": [
    "## Put together"
   ]
  },
  {
   "cell_type": "code",
   "execution_count": 97,
   "id": "146cf56b-51ca-435e-9a4f-e2981d1dde18",
   "metadata": {},
   "outputs": [],
   "source": [
    "def fm_model(max_uid, max_mid, num_genres, k, dnn_dr):\n",
    "    inputs = define_input_layers()\n",
    "\n",
    "    y_1st_order = first_order_interactions(inputs, max_uid, max_mid, num_genres)\n",
    "    y_2nd_order, embedded_2d = second_order_interactions(inputs, max_uid, max_mid, num_genres, k)\n",
    "\n",
    "    # combined deep and fm parts\n",
    "    y = Concatenate()([y_1st_order, y_2nd_order])\n",
    "    y = Dense(1)(y)\n",
    "\n",
    "    fm_model_1d = Model(inputs, y_1st_order)\n",
    "    fm_model_2d = Model(inputs, y_2nd_order)\n",
    "    fm_model = Model(inputs, y)\n",
    "\n",
    "    return fm_model_1d, fm_model_2d, fm_model"
   ]
  },
  {
   "cell_type": "code",
   "execution_count": 98,
   "id": "00bc1d16-4f4a-47d1-9310-66442e7b0efc",
   "metadata": {},
   "outputs": [],
   "source": [
    "params = {\n",
    "    'max_uid': ratings[\"userID\"].max(),\n",
    "    'max_mid': ratings[\"movieID\"].max(),\n",
    "    'num_genres': 18,\n",
    "    'k':20,\n",
    "    'dnn_dr': 0.5\n",
    "}\n",
    "\n",
    "fm_model_1d, fm_model_2d, fm_model = fm_model(**params)"
   ]
  },
  {
   "cell_type": "code",
   "execution_count": 99,
   "id": "070ecb9f-5e76-4a19-8a6d-cd333f3aa2d4",
   "metadata": {},
   "outputs": [
    {
     "data": {
      "text/plain": [
       "{'max_uid': 6040, 'max_mid': 3952, 'num_genres': 18, 'k': 20, 'dnn_dr': 0.5}"
      ]
     },
     "execution_count": 99,
     "metadata": {},
     "output_type": "execute_result"
    }
   ],
   "source": [
    "params"
   ]
  },
  {
   "cell_type": "code",
   "execution_count": null,
   "id": "52780013-9da1-4a86-bff9-ce9afc417ff7",
   "metadata": {},
   "outputs": [],
   "source": []
  },
  {
   "cell_type": "code",
   "execution_count": 100,
   "id": "4c64bd3e-1a0c-4393-87e9-9836f9ae8fbd",
   "metadata": {},
   "outputs": [],
   "source": [
    "def df2xy(ratings):\n",
    "    x = [ratings[\"age\"].values, \n",
    "         ratings[\"userID\"].values, \n",
    "         ratings[\"movieID\"].values, \n",
    "         np.concatenate(ratings[\"genres\"].values).reshape(-1,3)]\n",
    "    y = ratings[\"rating\"].values\n",
    "    return x,y\n",
    "\n",
    "train_x, train_y = df2xy(train)\n",
    "valid_x, valid_y = df2xy(test)"
   ]
  },
  {
   "cell_type": "code",
   "execution_count": 101,
   "id": "5abf4716-5c41-41ba-b7b2-979d5270c353",
   "metadata": {},
   "outputs": [
    {
     "data": {
      "text/plain": [
       "200042"
      ]
     },
     "execution_count": 101,
     "metadata": {},
     "output_type": "execute_result"
    }
   ],
   "source": [
    "len(valid_x[0])"
   ]
  },
  {
   "cell_type": "code",
   "execution_count": 102,
   "id": "afca2ac8-1cf4-42cf-8f2c-91abb91dc10f",
   "metadata": {},
   "outputs": [
    {
     "name": "stdout",
     "output_type": "stream",
     "text": [
      "Epoch 1/30\n",
      "TMP2: TensorShape([None, 1, 20])\n",
      "TMP: TensorShape([])\n"
     ]
    },
    {
     "name": "stderr",
     "output_type": "stream",
     "text": [
      "2024-05-16 04:02:03.114794: W tensorflow/core/framework/local_rendezvous.cc:404] Local rendezvous is aborting with status: INVALID_ARGUMENT: Input to reshape is a tensor with 2048 values, but the requested shape has 1\n",
      "\t [[{{function_node __inference_one_step_on_data_29043}}{{node gradient_tape/functional_59_1/embedding_48_1/Reshape_1}}]]\n"
     ]
    },
    {
     "ename": "InvalidArgumentError",
     "evalue": "Graph execution error:\n\nDetected at node gradient_tape/functional_59_1/embedding_48_1/Reshape_1 defined at (most recent call last):\n  File \"/usr/local/Cellar/python@3.10/3.10.14/Frameworks/Python.framework/Versions/3.10/lib/python3.10/runpy.py\", line 196, in _run_module_as_main\n\n  File \"/usr/local/Cellar/python@3.10/3.10.14/Frameworks/Python.framework/Versions/3.10/lib/python3.10/runpy.py\", line 86, in _run_code\n\n  File \"/Users/bluraygun/Documents/tfg/tflow/lib/python3.10/site-packages/ipykernel_launcher.py\", line 18, in <module>\n\n  File \"/Users/bluraygun/Documents/tfg/tflow/lib/python3.10/site-packages/traitlets/config/application.py\", line 1075, in launch_instance\n\n  File \"/Users/bluraygun/Documents/tfg/tflow/lib/python3.10/site-packages/ipykernel/kernelapp.py\", line 739, in start\n\n  File \"/Users/bluraygun/Documents/tfg/tflow/lib/python3.10/site-packages/tornado/platform/asyncio.py\", line 205, in start\n\n  File \"/usr/local/Cellar/python@3.10/3.10.14/Frameworks/Python.framework/Versions/3.10/lib/python3.10/asyncio/base_events.py\", line 603, in run_forever\n\n  File \"/usr/local/Cellar/python@3.10/3.10.14/Frameworks/Python.framework/Versions/3.10/lib/python3.10/asyncio/base_events.py\", line 1909, in _run_once\n\n  File \"/usr/local/Cellar/python@3.10/3.10.14/Frameworks/Python.framework/Versions/3.10/lib/python3.10/asyncio/events.py\", line 80, in _run\n\n  File \"/Users/bluraygun/Documents/tfg/tflow/lib/python3.10/site-packages/ipykernel/kernelbase.py\", line 545, in dispatch_queue\n\n  File \"/Users/bluraygun/Documents/tfg/tflow/lib/python3.10/site-packages/ipykernel/kernelbase.py\", line 534, in process_one\n\n  File \"/Users/bluraygun/Documents/tfg/tflow/lib/python3.10/site-packages/ipykernel/kernelbase.py\", line 437, in dispatch_shell\n\n  File \"/Users/bluraygun/Documents/tfg/tflow/lib/python3.10/site-packages/ipykernel/ipkernel.py\", line 362, in execute_request\n\n  File \"/Users/bluraygun/Documents/tfg/tflow/lib/python3.10/site-packages/ipykernel/kernelbase.py\", line 778, in execute_request\n\n  File \"/Users/bluraygun/Documents/tfg/tflow/lib/python3.10/site-packages/ipykernel/ipkernel.py\", line 449, in do_execute\n\n  File \"/Users/bluraygun/Documents/tfg/tflow/lib/python3.10/site-packages/ipykernel/zmqshell.py\", line 549, in run_cell\n\n  File \"/Users/bluraygun/Documents/tfg/tflow/lib/python3.10/site-packages/IPython/core/interactiveshell.py\", line 3075, in run_cell\n\n  File \"/Users/bluraygun/Documents/tfg/tflow/lib/python3.10/site-packages/IPython/core/interactiveshell.py\", line 3130, in _run_cell\n\n  File \"/Users/bluraygun/Documents/tfg/tflow/lib/python3.10/site-packages/IPython/core/async_helpers.py\", line 129, in _pseudo_sync_runner\n\n  File \"/Users/bluraygun/Documents/tfg/tflow/lib/python3.10/site-packages/IPython/core/interactiveshell.py\", line 3334, in run_cell_async\n\n  File \"/Users/bluraygun/Documents/tfg/tflow/lib/python3.10/site-packages/IPython/core/interactiveshell.py\", line 3517, in run_ast_nodes\n\n  File \"/Users/bluraygun/Documents/tfg/tflow/lib/python3.10/site-packages/IPython/core/interactiveshell.py\", line 3577, in run_code\n\n  File \"/var/folders/rl/lb7rvxps5tq8t99c2_f297h00000gn/T/ipykernel_83253/1233095245.py\", line 12, in <module>\n\n  File \"/Users/bluraygun/Documents/tfg/tflow/lib/python3.10/site-packages/keras/src/utils/traceback_utils.py\", line 117, in error_handler\n\n  File \"/Users/bluraygun/Documents/tfg/tflow/lib/python3.10/site-packages/keras/src/backend/tensorflow/trainer.py\", line 314, in fit\n\n  File \"/Users/bluraygun/Documents/tfg/tflow/lib/python3.10/site-packages/keras/src/backend/tensorflow/trainer.py\", line 117, in one_step_on_iterator\n\n  File \"/Users/bluraygun/Documents/tfg/tflow/lib/python3.10/site-packages/keras/src/backend/tensorflow/trainer.py\", line 104, in one_step_on_data\n\n  File \"/Users/bluraygun/Documents/tfg/tflow/lib/python3.10/site-packages/keras/src/backend/tensorflow/trainer.py\", line 66, in train_step\n\nInput to reshape is a tensor with 2048 values, but the requested shape has 1\n\t [[{{node gradient_tape/functional_59_1/embedding_48_1/Reshape_1}}]] [Op:__inference_one_step_on_iterator_29126]",
     "output_type": "error",
     "traceback": [
      "\u001b[0;31m---------------------------------------------------------------------------\u001b[0m",
      "\u001b[0;31mInvalidArgumentError\u001b[0m                      Traceback (most recent call last)",
      "Cell \u001b[0;32mIn[102], line 12\u001b[0m\n\u001b[1;32m      7\u001b[0m model_ckp \u001b[38;5;241m=\u001b[39m ModelCheckpoint(filepath\u001b[38;5;241m=\u001b[39m\u001b[38;5;124m'\u001b[39m\u001b[38;5;124m./models/deepfm.weights.h5\u001b[39m\u001b[38;5;124m'\u001b[39m, \n\u001b[1;32m      8\u001b[0m                             monitor\u001b[38;5;241m=\u001b[39m\u001b[38;5;124m'\u001b[39m\u001b[38;5;124mval_loss\u001b[39m\u001b[38;5;124m'\u001b[39m,\n\u001b[1;32m      9\u001b[0m                             save_weights_only\u001b[38;5;241m=\u001b[39m\u001b[38;5;28;01mTrue\u001b[39;00m, \n\u001b[1;32m     10\u001b[0m                             save_best_only\u001b[38;5;241m=\u001b[39m\u001b[38;5;28;01mTrue\u001b[39;00m)\n\u001b[1;32m     11\u001b[0m callbacks \u001b[38;5;241m=\u001b[39m [model_ckp,early_stop]\n\u001b[0;32m---> 12\u001b[0m train_history \u001b[38;5;241m=\u001b[39m \u001b[43mfm_model\u001b[49m\u001b[38;5;241;43m.\u001b[39;49m\u001b[43mfit\u001b[49m\u001b[43m(\u001b[49m\u001b[43mtrain_x\u001b[49m\u001b[43m,\u001b[49m\u001b[43m \u001b[49m\u001b[43mtrain_y\u001b[49m\u001b[43m,\u001b[49m\u001b[43m \u001b[49m\n\u001b[1;32m     13\u001b[0m \u001b[43m                                  \u001b[49m\u001b[43mepochs\u001b[49m\u001b[38;5;241;43m=\u001b[39;49m\u001b[38;5;241;43m30\u001b[39;49m\u001b[43m,\u001b[49m\u001b[43m \u001b[49m\u001b[43mbatch_size\u001b[49m\u001b[38;5;241;43m=\u001b[39;49m\u001b[38;5;241;43m2048\u001b[39;49m\u001b[43m,\u001b[49m\u001b[43m \u001b[49m\n\u001b[1;32m     14\u001b[0m \u001b[43m                                  \u001b[49m\u001b[43mvalidation_data\u001b[49m\u001b[38;5;241;43m=\u001b[39;49m\u001b[43m(\u001b[49m\u001b[43mvalid_x\u001b[49m\u001b[43m,\u001b[49m\u001b[43m \u001b[49m\u001b[43mvalid_y\u001b[49m\u001b[43m)\u001b[49m\u001b[43m,\u001b[49m\n\u001b[1;32m     15\u001b[0m \u001b[43m                                  \u001b[49m\u001b[43mcallbacks\u001b[49m\u001b[43m \u001b[49m\u001b[38;5;241;43m=\u001b[39;49m\u001b[43m \u001b[49m\u001b[43mcallbacks\u001b[49m\u001b[43m)\u001b[49m\n",
      "File \u001b[0;32m~/Documents/tfg/tflow/lib/python3.10/site-packages/keras/src/utils/traceback_utils.py:122\u001b[0m, in \u001b[0;36mfilter_traceback.<locals>.error_handler\u001b[0;34m(*args, **kwargs)\u001b[0m\n\u001b[1;32m    119\u001b[0m     filtered_tb \u001b[38;5;241m=\u001b[39m _process_traceback_frames(e\u001b[38;5;241m.\u001b[39m__traceback__)\n\u001b[1;32m    120\u001b[0m     \u001b[38;5;66;03m# To get the full stack trace, call:\u001b[39;00m\n\u001b[1;32m    121\u001b[0m     \u001b[38;5;66;03m# `keras.config.disable_traceback_filtering()`\u001b[39;00m\n\u001b[0;32m--> 122\u001b[0m     \u001b[38;5;28;01mraise\u001b[39;00m e\u001b[38;5;241m.\u001b[39mwith_traceback(filtered_tb) \u001b[38;5;28;01mfrom\u001b[39;00m \u001b[38;5;28;01mNone\u001b[39;00m\n\u001b[1;32m    123\u001b[0m \u001b[38;5;28;01mfinally\u001b[39;00m:\n\u001b[1;32m    124\u001b[0m     \u001b[38;5;28;01mdel\u001b[39;00m filtered_tb\n",
      "File \u001b[0;32m~/Documents/tfg/tflow/lib/python3.10/site-packages/tensorflow/python/eager/execute.py:53\u001b[0m, in \u001b[0;36mquick_execute\u001b[0;34m(op_name, num_outputs, inputs, attrs, ctx, name)\u001b[0m\n\u001b[1;32m     51\u001b[0m \u001b[38;5;28;01mtry\u001b[39;00m:\n\u001b[1;32m     52\u001b[0m   ctx\u001b[38;5;241m.\u001b[39mensure_initialized()\n\u001b[0;32m---> 53\u001b[0m   tensors \u001b[38;5;241m=\u001b[39m pywrap_tfe\u001b[38;5;241m.\u001b[39mTFE_Py_Execute(ctx\u001b[38;5;241m.\u001b[39m_handle, device_name, op_name,\n\u001b[1;32m     54\u001b[0m                                       inputs, attrs, num_outputs)\n\u001b[1;32m     55\u001b[0m \u001b[38;5;28;01mexcept\u001b[39;00m core\u001b[38;5;241m.\u001b[39m_NotOkStatusException \u001b[38;5;28;01mas\u001b[39;00m e:\n\u001b[1;32m     56\u001b[0m   \u001b[38;5;28;01mif\u001b[39;00m name \u001b[38;5;129;01mis\u001b[39;00m \u001b[38;5;129;01mnot\u001b[39;00m \u001b[38;5;28;01mNone\u001b[39;00m:\n",
      "\u001b[0;31mInvalidArgumentError\u001b[0m: Graph execution error:\n\nDetected at node gradient_tape/functional_59_1/embedding_48_1/Reshape_1 defined at (most recent call last):\n  File \"/usr/local/Cellar/python@3.10/3.10.14/Frameworks/Python.framework/Versions/3.10/lib/python3.10/runpy.py\", line 196, in _run_module_as_main\n\n  File \"/usr/local/Cellar/python@3.10/3.10.14/Frameworks/Python.framework/Versions/3.10/lib/python3.10/runpy.py\", line 86, in _run_code\n\n  File \"/Users/bluraygun/Documents/tfg/tflow/lib/python3.10/site-packages/ipykernel_launcher.py\", line 18, in <module>\n\n  File \"/Users/bluraygun/Documents/tfg/tflow/lib/python3.10/site-packages/traitlets/config/application.py\", line 1075, in launch_instance\n\n  File \"/Users/bluraygun/Documents/tfg/tflow/lib/python3.10/site-packages/ipykernel/kernelapp.py\", line 739, in start\n\n  File \"/Users/bluraygun/Documents/tfg/tflow/lib/python3.10/site-packages/tornado/platform/asyncio.py\", line 205, in start\n\n  File \"/usr/local/Cellar/python@3.10/3.10.14/Frameworks/Python.framework/Versions/3.10/lib/python3.10/asyncio/base_events.py\", line 603, in run_forever\n\n  File \"/usr/local/Cellar/python@3.10/3.10.14/Frameworks/Python.framework/Versions/3.10/lib/python3.10/asyncio/base_events.py\", line 1909, in _run_once\n\n  File \"/usr/local/Cellar/python@3.10/3.10.14/Frameworks/Python.framework/Versions/3.10/lib/python3.10/asyncio/events.py\", line 80, in _run\n\n  File \"/Users/bluraygun/Documents/tfg/tflow/lib/python3.10/site-packages/ipykernel/kernelbase.py\", line 545, in dispatch_queue\n\n  File \"/Users/bluraygun/Documents/tfg/tflow/lib/python3.10/site-packages/ipykernel/kernelbase.py\", line 534, in process_one\n\n  File \"/Users/bluraygun/Documents/tfg/tflow/lib/python3.10/site-packages/ipykernel/kernelbase.py\", line 437, in dispatch_shell\n\n  File \"/Users/bluraygun/Documents/tfg/tflow/lib/python3.10/site-packages/ipykernel/ipkernel.py\", line 362, in execute_request\n\n  File \"/Users/bluraygun/Documents/tfg/tflow/lib/python3.10/site-packages/ipykernel/kernelbase.py\", line 778, in execute_request\n\n  File \"/Users/bluraygun/Documents/tfg/tflow/lib/python3.10/site-packages/ipykernel/ipkernel.py\", line 449, in do_execute\n\n  File \"/Users/bluraygun/Documents/tfg/tflow/lib/python3.10/site-packages/ipykernel/zmqshell.py\", line 549, in run_cell\n\n  File \"/Users/bluraygun/Documents/tfg/tflow/lib/python3.10/site-packages/IPython/core/interactiveshell.py\", line 3075, in run_cell\n\n  File \"/Users/bluraygun/Documents/tfg/tflow/lib/python3.10/site-packages/IPython/core/interactiveshell.py\", line 3130, in _run_cell\n\n  File \"/Users/bluraygun/Documents/tfg/tflow/lib/python3.10/site-packages/IPython/core/async_helpers.py\", line 129, in _pseudo_sync_runner\n\n  File \"/Users/bluraygun/Documents/tfg/tflow/lib/python3.10/site-packages/IPython/core/interactiveshell.py\", line 3334, in run_cell_async\n\n  File \"/Users/bluraygun/Documents/tfg/tflow/lib/python3.10/site-packages/IPython/core/interactiveshell.py\", line 3517, in run_ast_nodes\n\n  File \"/Users/bluraygun/Documents/tfg/tflow/lib/python3.10/site-packages/IPython/core/interactiveshell.py\", line 3577, in run_code\n\n  File \"/var/folders/rl/lb7rvxps5tq8t99c2_f297h00000gn/T/ipykernel_83253/1233095245.py\", line 12, in <module>\n\n  File \"/Users/bluraygun/Documents/tfg/tflow/lib/python3.10/site-packages/keras/src/utils/traceback_utils.py\", line 117, in error_handler\n\n  File \"/Users/bluraygun/Documents/tfg/tflow/lib/python3.10/site-packages/keras/src/backend/tensorflow/trainer.py\", line 314, in fit\n\n  File \"/Users/bluraygun/Documents/tfg/tflow/lib/python3.10/site-packages/keras/src/backend/tensorflow/trainer.py\", line 117, in one_step_on_iterator\n\n  File \"/Users/bluraygun/Documents/tfg/tflow/lib/python3.10/site-packages/keras/src/backend/tensorflow/trainer.py\", line 104, in one_step_on_data\n\n  File \"/Users/bluraygun/Documents/tfg/tflow/lib/python3.10/site-packages/keras/src/backend/tensorflow/trainer.py\", line 66, in train_step\n\nInput to reshape is a tensor with 2048 values, but the requested shape has 1\n\t [[{{node gradient_tape/functional_59_1/embedding_48_1/Reshape_1}}]] [Op:__inference_one_step_on_iterator_29126]"
     ]
    }
   ],
   "source": [
    "from tensorflow.keras.callbacks import  EarlyStopping, ModelCheckpoint\n",
    "# train  model\n",
    "fm_model.compile(\n",
    "    loss=tf.keras.losses.MeanSquaredError(), optimizer=keras.optimizers.Adam(learning_rate=0.001)\n",
    ")\n",
    "early_stop = EarlyStopping(monitor='val_loss', patience=3)\n",
    "model_ckp = ModelCheckpoint(filepath='./models/deepfm.weights.h5', \n",
    "                            monitor='val_loss',\n",
    "                            save_weights_only=True, \n",
    "                            save_best_only=True)\n",
    "callbacks = [model_ckp,early_stop]\n",
    "train_history = fm_model.fit(train_x, train_y, \n",
    "                                  epochs=30, batch_size=2048, \n",
    "                                  validation_data=(valid_x, valid_y),\n",
    "                                  callbacks = callbacks)"
   ]
  },
  {
   "cell_type": "code",
   "execution_count": null,
   "id": "8483e5b4-674f-4c43-8de8-a569f65035b9",
   "metadata": {},
   "outputs": [],
   "source": []
  }
 ],
 "metadata": {
  "kernelspec": {
   "display_name": "Python 3 (ipykernel)",
   "language": "python",
   "name": "python3"
  },
  "language_info": {
   "codemirror_mode": {
    "name": "ipython",
    "version": 3
   },
   "file_extension": ".py",
   "mimetype": "text/x-python",
   "name": "python",
   "nbconvert_exporter": "python",
   "pygments_lexer": "ipython3",
   "version": "3.10.14"
  }
 },
 "nbformat": 4,
 "nbformat_minor": 5
}
