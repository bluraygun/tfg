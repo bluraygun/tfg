{
 "cells": [
  {
   "cell_type": "markdown",
   "id": "3851e6cc-df9e-46f9-83a3-61f65df5ea4c",
   "metadata": {},
   "source": [
    "# Conformal prediction for Recommenders"
   ]
  },
  {
   "cell_type": "code",
   "execution_count": 1,
   "id": "6b91ccf0-c438-4bb2-b705-f4615041e210",
   "metadata": {},
   "outputs": [],
   "source": [
    "# !wget https://files.grouplens.org/datasets/movielens/ml-latest-small.zip\n",
    "# !unzip -o ml-latest-small.zip"
   ]
  },
  {
   "cell_type": "code",
   "execution_count": null,
   "id": "c8ded21e-ea57-4895-9551-1119f9dbc30f",
   "metadata": {},
   "outputs": [],
   "source": []
  }
 ],
 "metadata": {
  "kernelspec": {
   "display_name": "Python 3 (ipykernel)",
   "language": "python",
   "name": "python3"
  },
  "language_info": {
   "codemirror_mode": {
    "name": "ipython",
    "version": 3
   },
   "file_extension": ".py",
   "mimetype": "text/x-python",
   "name": "python",
   "nbconvert_exporter": "python",
   "pygments_lexer": "ipython3",
   "version": "3.10.13"
  }
 },
 "nbformat": 4,
 "nbformat_minor": 5
}
