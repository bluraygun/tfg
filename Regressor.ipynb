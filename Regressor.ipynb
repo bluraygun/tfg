{
 "cells": [
  {
   "cell_type": "markdown",
   "id": "9c8a4c83-ab7f-42be-a82b-bc4c69b25bab",
   "metadata": {},
   "source": [
    "# Conformal prediction for Regressors"
   ]
  },
  {
   "cell_type": "code",
   "execution_count": null,
   "id": "eb3208d0-f318-4974-963b-90fc874d660a",
   "metadata": {},
   "outputs": [],
   "source": []
  }
 ],
 "metadata": {
  "kernelspec": {
   "display_name": "Python 3 (ipykernel)",
   "language": "python",
   "name": "python3"
  },
  "language_info": {
   "codemirror_mode": {
    "name": "ipython",
    "version": 3
   },
   "file_extension": ".py",
   "mimetype": "text/x-python",
   "name": "python",
   "nbconvert_exporter": "python",
   "pygments_lexer": "ipython3",
   "version": "3.10.13"
  }
 },
 "nbformat": 4,
 "nbformat_minor": 5
}
