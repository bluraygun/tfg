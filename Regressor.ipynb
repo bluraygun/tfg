{
 "cells": [
  {
   "cell_type": "markdown",
   "id": "9c8a4c83-ab7f-42be-a82b-bc4c69b25bab",
   "metadata": {},
   "source": [
    "# Conformal prediction for Regressors"
   ]
  },
  {
   "cell_type": "code",
   "execution_count": 9,
   "id": "eb3208d0-f318-4974-963b-90fc874d660a",
   "metadata": {},
   "outputs": [],
   "source": [
    "from sklearn.datasets import fetch_california_housing\n",
    "from sklearn.ensemble import GradientBoostingRegressor\n",
    "from sklearn.model_selection import train_test_split"
   ]
  },
  {
   "cell_type": "code",
   "execution_count": 5,
   "id": "14348c59-9d92-4a4f-8502-6d2614b9d462",
   "metadata": {},
   "outputs": [
    {
     "name": "stdout",
     "output_type": "stream",
     "text": [
      "(20640, 8) (20640,)\n",
      "['MedInc', 'HouseAge', 'AveRooms', 'AveBedrms', 'Population', 'AveOccup', 'Latitude', 'Longitude']\n"
     ]
    }
   ],
   "source": [
    "housing = fetch_california_housing(data_home='data/california_housing')\n",
    "print(housing.data.shape, housing.target.shape)\n",
    "print(housing.feature_names)"
   ]
  },
  {
   "cell_type": "code",
   "execution_count": 12,
   "id": "9b6c09e4-033a-4567-b9c7-afc749fabba4",
   "metadata": {},
   "outputs": [],
   "source": [
    "# Treure random_state"
   ]
  },
  {
   "cell_type": "code",
   "execution_count": 10,
   "id": "1c6ff604-5db3-41d9-8073-56e957023abd",
   "metadata": {},
   "outputs": [],
   "source": [
    "X, y = housing.data, housing.target\n",
    "X_train, X_val, y_train, y_val = train_test_split(X, y, test_size=0.2, random_state=0)"
   ]
  },
  {
   "cell_type": "code",
   "execution_count": 16,
   "id": "c9780030-8d22-4525-948c-d5d35ca7eb06",
   "metadata": {},
   "outputs": [],
   "source": [
    "learning_rate = 0.1\n",
    "n_estimators = 200"
   ]
  },
  {
   "cell_type": "code",
   "execution_count": 17,
   "id": "a24eaa29-f8a2-41f2-865d-4954bde9de7e",
   "metadata": {},
   "outputs": [],
   "source": [
    "loss = 'quantile'"
   ]
  },
  {
   "cell_type": "code",
   "execution_count": 30,
   "id": "e9482d27-11c2-4d47-b74b-0111af79f108",
   "metadata": {},
   "outputs": [
    {
     "name": "stdout",
     "output_type": "stream",
     "text": [
      "Coverage: 0.90\n"
     ]
    }
   ],
   "source": [
    "upper_alpha = 0.95\n",
    "lower_alpha = 1-upper_alpha\n",
    "print(\"Coverage: %.2f\" % (upper_alpha-lower_alpha))"
   ]
  },
  {
   "cell_type": "markdown",
   "id": "6d7c947b-562f-42e7-a38f-b6b79465e466",
   "metadata": {},
   "source": [
    "lq = lower quantile\\\n",
    "uq = upper quantile"
   ]
  },
  {
   "cell_type": "code",
   "execution_count": 25,
   "id": "0042613a-14c0-4211-b898-8c83f7c37232",
   "metadata": {},
   "outputs": [
    {
     "name": "stdout",
     "output_type": "stream",
     "text": [
      "Done\n"
     ]
    }
   ],
   "source": [
    "gbr_lq = GradientBoostingRegressor(loss=loss, learning_rate=learning_rate, n_estimators=n_estimators, alpha=lower_alpha)\n",
    "gbr_uq = GradientBoostingRegressor(loss=loss, learning_rate=learning_rate, n_estimators=n_estimators, alpha=upper_alpha)\n",
    "\n",
    "gbr_lq.fit(X_train, y_train)\n",
    "gbr_uq.fit(X_train, y_train)\n",
    "\n",
    "print(\"Done\")"
   ]
  },
  {
   "cell_type": "code",
   "execution_count": 21,
   "id": "46410695-c1bb-4357-8a0e-2d2f06b4f0b2",
   "metadata": {},
   "outputs": [
    {
     "data": {
      "text/plain": [
       "200"
      ]
     },
     "execution_count": 21,
     "metadata": {},
     "output_type": "execute_result"
    }
   ],
   "source": []
  },
  {
   "cell_type": "code",
   "execution_count": null,
   "id": "013dc1ed-13c4-45b9-a950-b3369222e1f7",
   "metadata": {},
   "outputs": [],
   "source": []
  }
 ],
 "metadata": {
  "kernelspec": {
   "display_name": "Python 3 (ipykernel)",
   "language": "python",
   "name": "python3"
  },
  "language_info": {
   "codemirror_mode": {
    "name": "ipython",
    "version": 3
   },
   "file_extension": ".py",
   "mimetype": "text/x-python",
   "name": "python",
   "nbconvert_exporter": "python",
   "pygments_lexer": "ipython3",
   "version": "3.10.13"
  }
 },
 "nbformat": 4,
 "nbformat_minor": 5
}
