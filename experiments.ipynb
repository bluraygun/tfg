{
 "cells": [
  {
   "cell_type": "code",
   "execution_count": 3,
   "id": "89aebd6f-adc2-4588-833f-133f8eead816",
   "metadata": {},
   "outputs": [],
   "source": [
    "import numpy as np"
   ]
  },
  {
   "cell_type": "code",
   "execution_count": 20,
   "id": "bb3493e2-c4e6-4cdd-8a90-81a7076b5779",
   "metadata": {},
   "outputs": [],
   "source": [
    "a = np.array([0, 1, 1, 2, 4, 4, 4, 5, 6, 6, 8, 9, 9, 10])"
   ]
  },
  {
   "cell_type": "code",
   "execution_count": 29,
   "id": "bd438630-c1b1-44aa-b9b8-b4be72f9a154",
   "metadata": {},
   "outputs": [],
   "source": [
    "per = 1.0"
   ]
  },
  {
   "cell_type": "code",
   "execution_count": 30,
   "id": "a4f7a71a-b41f-4291-ae3b-e77a96564cdc",
   "metadata": {},
   "outputs": [
    {
     "data": {
      "text/plain": [
       "10.0"
      ]
     },
     "execution_count": 30,
     "metadata": {},
     "output_type": "execute_result"
    }
   ],
   "source": [
    "np.quantile(a, per, method='linear')"
   ]
  },
  {
   "cell_type": "code",
   "execution_count": 31,
   "id": "062d0af8-b2c9-4053-819d-f223fa229ecd",
   "metadata": {},
   "outputs": [
    {
     "data": {
      "text/plain": [
       "10"
      ]
     },
     "execution_count": 31,
     "metadata": {},
     "output_type": "execute_result"
    }
   ],
   "source": [
    "np.quantile(a, per, method='lower')"
   ]
  },
  {
   "cell_type": "code",
   "execution_count": 32,
   "id": "35e11e16-d12b-4c2b-9b4f-5f9dfb21470d",
   "metadata": {},
   "outputs": [
    {
     "data": {
      "text/plain": [
       "10"
      ]
     },
     "execution_count": 32,
     "metadata": {},
     "output_type": "execute_result"
    }
   ],
   "source": [
    "np.quantile(a, per, method='higher')"
   ]
  },
  {
   "cell_type": "code",
   "execution_count": 33,
   "id": "f77f0745-80fa-42a1-b73c-fae437d39757",
   "metadata": {},
   "outputs": [
    {
     "name": "stdout",
     "output_type": "stream",
     "text": [
      "Hola cuki, I lo chu cuki\n"
     ]
    }
   ],
   "source": [
    "print(\"Hola cuki, I lo chu cuki\")"
   ]
  },
  {
   "cell_type": "code",
   "execution_count": null,
   "id": "fdcb6b90-76cb-4473-8fac-a33e4fad5a9b",
   "metadata": {},
   "outputs": [],
   "source": []
  }
 ],
 "metadata": {
  "kernelspec": {
   "display_name": "Python 3 (ipykernel)",
   "language": "python",
   "name": "python3"
  },
  "language_info": {
   "codemirror_mode": {
    "name": "ipython",
    "version": 3
   },
   "file_extension": ".py",
   "mimetype": "text/x-python",
   "name": "python",
   "nbconvert_exporter": "python",
   "pygments_lexer": "ipython3",
   "version": "3.10.13"
  }
 },
 "nbformat": 4,
 "nbformat_minor": 5
}
