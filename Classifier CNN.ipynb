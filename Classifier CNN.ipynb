{
 "cells": [
  {
   "cell_type": "markdown",
   "id": "1e0f24f1-4cb0-4ffb-92fb-291d266c2d32",
   "metadata": {},
   "source": [
    "# Conformal prediction for Classifiers"
   ]
  },
  {
   "cell_type": "markdown",
   "id": "4f4cf57a-83ed-40c1-adad-29f9527a302a",
   "metadata": {},
   "source": [
    "### Imports"
   ]
  },
  {
   "cell_type": "code",
   "execution_count": 5,
   "id": "1996e0a6-a304-495a-9610-81f76a283838",
   "metadata": {},
   "outputs": [],
   "source": [
    "import matplotlib.pyplot as plt\n",
    "import numpy as np\n",
    "import pandas as pd\n",
    "from math import ceil\n",
    "import torch\n",
    "import torch.nn as nn\n",
    "import torch.optim as optim\n",
    "import torchvision\n",
    "import torchvision.transforms as transforms"
   ]
  },
  {
   "cell_type": "markdown",
   "id": "b63ead89-c8c4-42e7-8621-9030af0245c5",
   "metadata": {},
   "source": [
    "### Train and test datasets"
   ]
  },
  {
   "cell_type": "code",
   "execution_count": 2,
   "id": "db796df3-2655-42a2-bb0d-a39c7c6f4d7c",
   "metadata": {},
   "outputs": [],
   "source": [
    "device = torch.device('cuda' if torch.cuda.is_available() else 'cpu')\n",
    "\n",
    "# Hyperparameters\n",
    "num_epochs = 5\n",
    "batch_size = 100\n",
    "learning_rate = 0.001\n",
    "\n",
    "# MNIST dataset\n",
    "train_dataset = torchvision.datasets.MNIST(root='./data', \n",
    "                                           train=True, \n",
    "                                           transform=transforms.ToTensor())\n",
    "\n",
    "test_dataset = torchvision.datasets.MNIST(root='./data', \n",
    "                                          train=False, \n",
    "                                          transform=transforms.ToTensor())\n",
    "\n",
    "# Data loader\n",
    "train_loader = torch.utils.data.DataLoader(dataset=train_dataset, \n",
    "                                           batch_size=batch_size, \n",
    "                                           shuffle=True)\n",
    "\n",
    "test_loader = torch.utils.data.DataLoader(dataset=test_dataset, \n",
    "                                          batch_size=batch_size, \n",
    "                                          shuffle=False)"
   ]
  },
  {
   "cell_type": "code",
   "execution_count": 3,
   "id": "c8364d3b-e417-400e-a6cd-f81693a7c917",
   "metadata": {},
   "outputs": [
    {
     "name": "stdout",
     "output_type": "stream",
     "text": [
      "Epoch [1/5], Step [100/600], Loss: 0.1781\n",
      "Epoch [1/5], Step [200/600], Loss: 0.1665\n",
      "Epoch [1/5], Step [300/600], Loss: 0.1699\n",
      "Epoch [1/5], Step [400/600], Loss: 0.0336\n",
      "Epoch [1/5], Step [500/600], Loss: 0.0402\n",
      "Epoch [1/5], Step [600/600], Loss: 0.0866\n",
      "Epoch [2/5], Step [100/600], Loss: 0.0396\n",
      "Epoch [2/5], Step [200/600], Loss: 0.0070\n",
      "Epoch [2/5], Step [300/600], Loss: 0.0822\n",
      "Epoch [2/5], Step [400/600], Loss: 0.0231\n",
      "Epoch [2/5], Step [500/600], Loss: 0.0248\n",
      "Epoch [2/5], Step [600/600], Loss: 0.0512\n",
      "Epoch [3/5], Step [100/600], Loss: 0.1017\n",
      "Epoch [3/5], Step [200/600], Loss: 0.0272\n",
      "Epoch [3/5], Step [300/600], Loss: 0.0673\n",
      "Epoch [3/5], Step [400/600], Loss: 0.0201\n",
      "Epoch [3/5], Step [500/600], Loss: 0.0489\n",
      "Epoch [3/5], Step [600/600], Loss: 0.0104\n",
      "Epoch [4/5], Step [100/600], Loss: 0.0256\n",
      "Epoch [4/5], Step [200/600], Loss: 0.0176\n",
      "Epoch [4/5], Step [300/600], Loss: 0.0607\n",
      "Epoch [4/5], Step [400/600], Loss: 0.1672\n",
      "Epoch [4/5], Step [500/600], Loss: 0.0612\n",
      "Epoch [4/5], Step [600/600], Loss: 0.0064\n",
      "Epoch [5/5], Step [100/600], Loss: 0.1285\n",
      "Epoch [5/5], Step [200/600], Loss: 0.0467\n",
      "Epoch [5/5], Step [300/600], Loss: 0.0047\n",
      "Epoch [5/5], Step [400/600], Loss: 0.0072\n",
      "Epoch [5/5], Step [500/600], Loss: 0.0504\n",
      "Epoch [5/5], Step [600/600], Loss: 0.0489\n",
      "Accuracy of the model on the 10000 test images: 98.39%\n"
     ]
    }
   ],
   "source": [
    "class ConvNet(nn.Module):\n",
    "    def __init__(self):\n",
    "        super(ConvNet, self).__init__()\n",
    "        self.layer1 = nn.Sequential(\n",
    "            nn.Conv2d(1, 16, kernel_size=5, stride=1, padding=2),\n",
    "            nn.BatchNorm2d(16),\n",
    "            nn.ReLU(),\n",
    "            nn.MaxPool2d(kernel_size=2, stride=2))\n",
    "        self.layer2 = nn.Sequential(\n",
    "            nn.Conv2d(16, 32, kernel_size=5, stride=1, padding=2),\n",
    "            nn.BatchNorm2d(32),\n",
    "            nn.ReLU(),\n",
    "            nn.MaxPool2d(kernel_size=2, stride=2))\n",
    "        self.fc1 = nn.Linear(7*7*32, 1000)\n",
    "        self.fc2 = nn.Linear(1000, 10)\n",
    "    \n",
    "    def forward(self, x):\n",
    "        out = self.layer1(x)\n",
    "        out = self.layer2(out)\n",
    "        out = out.view(out.size(0), -1)\n",
    "        out = self.fc1(out)\n",
    "        out = self.fc2(out)\n",
    "        return out\n",
    "\n",
    "model = ConvNet().to(device)\n",
    "\n",
    "# Loss and optimizer\n",
    "criterion = nn.CrossEntropyLoss()\n",
    "optimizer = optim.Adam(model.parameters(), lr=learning_rate)\n",
    "\n",
    "# Train the model\n",
    "total_step = len(train_loader)\n",
    "for epoch in range(num_epochs):\n",
    "    for i, (images, labels) in enumerate(train_loader):\n",
    "        images = images.to(device)\n",
    "        labels = labels.to(device)\n",
    "        \n",
    "        # Forward pass\n",
    "        outputs = model(images)\n",
    "        loss = criterion(outputs, labels)\n",
    "        \n",
    "        # Backward and optimize\n",
    "        optimizer.zero_grad()\n",
    "        loss.backward()\n",
    "        optimizer.step()\n",
    "        \n",
    "        if (i+1) % 100 == 0:\n",
    "            print(f'Epoch [{epoch+1}/{num_epochs}], Step [{i+1}/{total_step}], Loss: {loss.item():.4f}')\n",
    "\n",
    "# Test the model\n",
    "model.eval()  # Set the model to evaluation mode (disables dropout)\n",
    "with torch.no_grad():\n",
    "    correct = 0\n",
    "    total = 0\n",
    "    for images, labels in test_loader:\n",
    "        images = images.to(device)\n",
    "        labels = labels.to(device)\n",
    "        outputs = model(images)\n",
    "        _, predicted = torch.max(outputs.data, 1)\n",
    "        total += labels.size(0)\n",
    "        correct += (predicted == labels).sum().item()\n",
    "\n",
    "    print(f'Accuracy of the model on the 10000 test images: {100 * correct / total:.2f}%')"
   ]
  },
  {
   "cell_type": "markdown",
   "id": "612b7060-65f3-40ea-881c-178a6729ddde",
   "metadata": {},
   "source": [
    "### Batch definition"
   ]
  },
  {
   "cell_type": "markdown",
   "id": "1ee8f254-9f76-41f4-ac52-79daf7941227",
   "metadata": {},
   "source": [
    "## Multilayer perceptron\n",
    "### Definition"
   ]
  },
  {
   "cell_type": "markdown",
   "id": "4fb10c3e-2107-4f08-91b9-70a9e25d36a1",
   "metadata": {},
   "source": [
    "### Hyperparameters, loss function and optimizer"
   ]
  },
  {
   "cell_type": "markdown",
   "id": "c62e77cc-cfeb-4be0-a595-015b25b2a27c",
   "metadata": {},
   "source": [
    "### Train and test code definition"
   ]
  },
  {
   "cell_type": "markdown",
   "id": "36a7e096-61c4-48c4-b323-6b7542232035",
   "metadata": {},
   "source": [
    "### Training"
   ]
  },
  {
   "cell_type": "markdown",
   "id": "fcd786f8-9589-45cb-9abb-a1925043c03d",
   "metadata": {},
   "source": [
    "### Example"
   ]
  },
  {
   "cell_type": "code",
   "execution_count": 9,
   "id": "3983b8c2-d7dd-4ca8-93a9-82688e89eb55",
   "metadata": {},
   "outputs": [],
   "source": [
    "def show_img_class(img, y):\n",
    "    plt.imshow(img.squeeze(), cmap=\"gray\")\n",
    "    plt.show()\n",
    "    print(y)"
   ]
  },
  {
   "cell_type": "code",
   "execution_count": 22,
   "id": "66acfd43-70d4-4ec9-ae81-c4cf5864a3c3",
   "metadata": {},
   "outputs": [],
   "source": [
    "img, y = next(iter(test_loader))"
   ]
  },
  {
   "cell_type": "code",
   "execution_count": 25,
   "id": "3581dfb6-f1c3-42d8-86a3-76e9dbd18a1e",
   "metadata": {
    "scrolled": true
   },
   "outputs": [
    {
     "ename": "TypeError",
     "evalue": "Invalid shape (100, 28, 28) for image data",
     "output_type": "error",
     "traceback": [
      "\u001b[0;31m---------------------------------------------------------------------------\u001b[0m",
      "\u001b[0;31mTypeError\u001b[0m                                 Traceback (most recent call last)",
      "Cell \u001b[0;32mIn[25], line 1\u001b[0m\n\u001b[0;32m----> 1\u001b[0m \u001b[43mshow_img_class\u001b[49m\u001b[43m(\u001b[49m\u001b[43mimg\u001b[49m\u001b[43m,\u001b[49m\u001b[43m \u001b[49m\u001b[43my\u001b[49m\u001b[43m)\u001b[49m\n",
      "Cell \u001b[0;32mIn[9], line 2\u001b[0m, in \u001b[0;36mshow_img_class\u001b[0;34m(img, y)\u001b[0m\n\u001b[1;32m      1\u001b[0m \u001b[38;5;28;01mdef\u001b[39;00m \u001b[38;5;21mshow_img_class\u001b[39m(img, y):\n\u001b[0;32m----> 2\u001b[0m     \u001b[43mplt\u001b[49m\u001b[38;5;241;43m.\u001b[39;49m\u001b[43mimshow\u001b[49m\u001b[43m(\u001b[49m\u001b[43mimg\u001b[49m\u001b[38;5;241;43m.\u001b[39;49m\u001b[43msqueeze\u001b[49m\u001b[43m(\u001b[49m\u001b[43m)\u001b[49m\u001b[43m,\u001b[49m\u001b[43m \u001b[49m\u001b[43mcmap\u001b[49m\u001b[38;5;241;43m=\u001b[39;49m\u001b[38;5;124;43m\"\u001b[39;49m\u001b[38;5;124;43mgray\u001b[39;49m\u001b[38;5;124;43m\"\u001b[39;49m\u001b[43m)\u001b[49m\n\u001b[1;32m      3\u001b[0m     plt\u001b[38;5;241m.\u001b[39mshow()\n\u001b[1;32m      4\u001b[0m     \u001b[38;5;28mprint\u001b[39m(y)\n",
      "File \u001b[0;32m~/anaconda3/envs/tfg/lib/python3.10/site-packages/matplotlib/pyplot.py:3346\u001b[0m, in \u001b[0;36mimshow\u001b[0;34m(X, cmap, norm, aspect, interpolation, alpha, vmin, vmax, origin, extent, interpolation_stage, filternorm, filterrad, resample, url, data, **kwargs)\u001b[0m\n\u001b[1;32m   3325\u001b[0m \u001b[38;5;129m@_copy_docstring_and_deprecators\u001b[39m(Axes\u001b[38;5;241m.\u001b[39mimshow)\n\u001b[1;32m   3326\u001b[0m \u001b[38;5;28;01mdef\u001b[39;00m \u001b[38;5;21mimshow\u001b[39m(\n\u001b[1;32m   3327\u001b[0m     X: ArrayLike \u001b[38;5;241m|\u001b[39m PIL\u001b[38;5;241m.\u001b[39mImage\u001b[38;5;241m.\u001b[39mImage,\n\u001b[0;32m   (...)\u001b[0m\n\u001b[1;32m   3344\u001b[0m     \u001b[38;5;241m*\u001b[39m\u001b[38;5;241m*\u001b[39mkwargs,\n\u001b[1;32m   3345\u001b[0m ) \u001b[38;5;241m-\u001b[39m\u001b[38;5;241m>\u001b[39m AxesImage:\n\u001b[0;32m-> 3346\u001b[0m     __ret \u001b[38;5;241m=\u001b[39m \u001b[43mgca\u001b[49m\u001b[43m(\u001b[49m\u001b[43m)\u001b[49m\u001b[38;5;241;43m.\u001b[39;49m\u001b[43mimshow\u001b[49m\u001b[43m(\u001b[49m\n\u001b[1;32m   3347\u001b[0m \u001b[43m        \u001b[49m\u001b[43mX\u001b[49m\u001b[43m,\u001b[49m\n\u001b[1;32m   3348\u001b[0m \u001b[43m        \u001b[49m\u001b[43mcmap\u001b[49m\u001b[38;5;241;43m=\u001b[39;49m\u001b[43mcmap\u001b[49m\u001b[43m,\u001b[49m\n\u001b[1;32m   3349\u001b[0m \u001b[43m        \u001b[49m\u001b[43mnorm\u001b[49m\u001b[38;5;241;43m=\u001b[39;49m\u001b[43mnorm\u001b[49m\u001b[43m,\u001b[49m\n\u001b[1;32m   3350\u001b[0m \u001b[43m        \u001b[49m\u001b[43maspect\u001b[49m\u001b[38;5;241;43m=\u001b[39;49m\u001b[43maspect\u001b[49m\u001b[43m,\u001b[49m\n\u001b[1;32m   3351\u001b[0m \u001b[43m        \u001b[49m\u001b[43minterpolation\u001b[49m\u001b[38;5;241;43m=\u001b[39;49m\u001b[43minterpolation\u001b[49m\u001b[43m,\u001b[49m\n\u001b[1;32m   3352\u001b[0m \u001b[43m        \u001b[49m\u001b[43malpha\u001b[49m\u001b[38;5;241;43m=\u001b[39;49m\u001b[43malpha\u001b[49m\u001b[43m,\u001b[49m\n\u001b[1;32m   3353\u001b[0m \u001b[43m        \u001b[49m\u001b[43mvmin\u001b[49m\u001b[38;5;241;43m=\u001b[39;49m\u001b[43mvmin\u001b[49m\u001b[43m,\u001b[49m\n\u001b[1;32m   3354\u001b[0m \u001b[43m        \u001b[49m\u001b[43mvmax\u001b[49m\u001b[38;5;241;43m=\u001b[39;49m\u001b[43mvmax\u001b[49m\u001b[43m,\u001b[49m\n\u001b[1;32m   3355\u001b[0m \u001b[43m        \u001b[49m\u001b[43morigin\u001b[49m\u001b[38;5;241;43m=\u001b[39;49m\u001b[43morigin\u001b[49m\u001b[43m,\u001b[49m\n\u001b[1;32m   3356\u001b[0m \u001b[43m        \u001b[49m\u001b[43mextent\u001b[49m\u001b[38;5;241;43m=\u001b[39;49m\u001b[43mextent\u001b[49m\u001b[43m,\u001b[49m\n\u001b[1;32m   3357\u001b[0m \u001b[43m        \u001b[49m\u001b[43minterpolation_stage\u001b[49m\u001b[38;5;241;43m=\u001b[39;49m\u001b[43minterpolation_stage\u001b[49m\u001b[43m,\u001b[49m\n\u001b[1;32m   3358\u001b[0m \u001b[43m        \u001b[49m\u001b[43mfilternorm\u001b[49m\u001b[38;5;241;43m=\u001b[39;49m\u001b[43mfilternorm\u001b[49m\u001b[43m,\u001b[49m\n\u001b[1;32m   3359\u001b[0m \u001b[43m        \u001b[49m\u001b[43mfilterrad\u001b[49m\u001b[38;5;241;43m=\u001b[39;49m\u001b[43mfilterrad\u001b[49m\u001b[43m,\u001b[49m\n\u001b[1;32m   3360\u001b[0m \u001b[43m        \u001b[49m\u001b[43mresample\u001b[49m\u001b[38;5;241;43m=\u001b[39;49m\u001b[43mresample\u001b[49m\u001b[43m,\u001b[49m\n\u001b[1;32m   3361\u001b[0m \u001b[43m        \u001b[49m\u001b[43murl\u001b[49m\u001b[38;5;241;43m=\u001b[39;49m\u001b[43murl\u001b[49m\u001b[43m,\u001b[49m\n\u001b[1;32m   3362\u001b[0m \u001b[43m        \u001b[49m\u001b[38;5;241;43m*\u001b[39;49m\u001b[38;5;241;43m*\u001b[39;49m\u001b[43m(\u001b[49m\u001b[43m{\u001b[49m\u001b[38;5;124;43m\"\u001b[39;49m\u001b[38;5;124;43mdata\u001b[39;49m\u001b[38;5;124;43m\"\u001b[39;49m\u001b[43m:\u001b[49m\u001b[43m \u001b[49m\u001b[43mdata\u001b[49m\u001b[43m}\u001b[49m\u001b[43m \u001b[49m\u001b[38;5;28;43;01mif\u001b[39;49;00m\u001b[43m \u001b[49m\u001b[43mdata\u001b[49m\u001b[43m \u001b[49m\u001b[38;5;129;43;01mis\u001b[39;49;00m\u001b[43m \u001b[49m\u001b[38;5;129;43;01mnot\u001b[39;49;00m\u001b[43m \u001b[49m\u001b[38;5;28;43;01mNone\u001b[39;49;00m\u001b[43m \u001b[49m\u001b[38;5;28;43;01melse\u001b[39;49;00m\u001b[43m \u001b[49m\u001b[43m{\u001b[49m\u001b[43m}\u001b[49m\u001b[43m)\u001b[49m\u001b[43m,\u001b[49m\n\u001b[1;32m   3363\u001b[0m \u001b[43m        \u001b[49m\u001b[38;5;241;43m*\u001b[39;49m\u001b[38;5;241;43m*\u001b[39;49m\u001b[43mkwargs\u001b[49m\u001b[43m,\u001b[49m\n\u001b[1;32m   3364\u001b[0m \u001b[43m    \u001b[49m\u001b[43m)\u001b[49m\n\u001b[1;32m   3365\u001b[0m     sci(__ret)\n\u001b[1;32m   3366\u001b[0m     \u001b[38;5;28;01mreturn\u001b[39;00m __ret\n",
      "File \u001b[0;32m~/anaconda3/envs/tfg/lib/python3.10/site-packages/matplotlib/__init__.py:1465\u001b[0m, in \u001b[0;36m_preprocess_data.<locals>.inner\u001b[0;34m(ax, data, *args, **kwargs)\u001b[0m\n\u001b[1;32m   1462\u001b[0m \u001b[38;5;129m@functools\u001b[39m\u001b[38;5;241m.\u001b[39mwraps(func)\n\u001b[1;32m   1463\u001b[0m \u001b[38;5;28;01mdef\u001b[39;00m \u001b[38;5;21minner\u001b[39m(ax, \u001b[38;5;241m*\u001b[39margs, data\u001b[38;5;241m=\u001b[39m\u001b[38;5;28;01mNone\u001b[39;00m, \u001b[38;5;241m*\u001b[39m\u001b[38;5;241m*\u001b[39mkwargs):\n\u001b[1;32m   1464\u001b[0m     \u001b[38;5;28;01mif\u001b[39;00m data \u001b[38;5;129;01mis\u001b[39;00m \u001b[38;5;28;01mNone\u001b[39;00m:\n\u001b[0;32m-> 1465\u001b[0m         \u001b[38;5;28;01mreturn\u001b[39;00m \u001b[43mfunc\u001b[49m\u001b[43m(\u001b[49m\u001b[43max\u001b[49m\u001b[43m,\u001b[49m\u001b[43m \u001b[49m\u001b[38;5;241;43m*\u001b[39;49m\u001b[38;5;28;43mmap\u001b[39;49m\u001b[43m(\u001b[49m\u001b[43msanitize_sequence\u001b[49m\u001b[43m,\u001b[49m\u001b[43m \u001b[49m\u001b[43margs\u001b[49m\u001b[43m)\u001b[49m\u001b[43m,\u001b[49m\u001b[43m \u001b[49m\u001b[38;5;241;43m*\u001b[39;49m\u001b[38;5;241;43m*\u001b[39;49m\u001b[43mkwargs\u001b[49m\u001b[43m)\u001b[49m\n\u001b[1;32m   1467\u001b[0m     bound \u001b[38;5;241m=\u001b[39m new_sig\u001b[38;5;241m.\u001b[39mbind(ax, \u001b[38;5;241m*\u001b[39margs, \u001b[38;5;241m*\u001b[39m\u001b[38;5;241m*\u001b[39mkwargs)\n\u001b[1;32m   1468\u001b[0m     auto_label \u001b[38;5;241m=\u001b[39m (bound\u001b[38;5;241m.\u001b[39marguments\u001b[38;5;241m.\u001b[39mget(label_namer)\n\u001b[1;32m   1469\u001b[0m                   \u001b[38;5;129;01mor\u001b[39;00m bound\u001b[38;5;241m.\u001b[39mkwargs\u001b[38;5;241m.\u001b[39mget(label_namer))\n",
      "File \u001b[0;32m~/anaconda3/envs/tfg/lib/python3.10/site-packages/matplotlib/axes/_axes.py:5751\u001b[0m, in \u001b[0;36mAxes.imshow\u001b[0;34m(self, X, cmap, norm, aspect, interpolation, alpha, vmin, vmax, origin, extent, interpolation_stage, filternorm, filterrad, resample, url, **kwargs)\u001b[0m\n\u001b[1;32m   5748\u001b[0m \u001b[38;5;28;01mif\u001b[39;00m aspect \u001b[38;5;129;01mis\u001b[39;00m \u001b[38;5;129;01mnot\u001b[39;00m \u001b[38;5;28;01mNone\u001b[39;00m:\n\u001b[1;32m   5749\u001b[0m     \u001b[38;5;28mself\u001b[39m\u001b[38;5;241m.\u001b[39mset_aspect(aspect)\n\u001b[0;32m-> 5751\u001b[0m \u001b[43mim\u001b[49m\u001b[38;5;241;43m.\u001b[39;49m\u001b[43mset_data\u001b[49m\u001b[43m(\u001b[49m\u001b[43mX\u001b[49m\u001b[43m)\u001b[49m\n\u001b[1;32m   5752\u001b[0m im\u001b[38;5;241m.\u001b[39mset_alpha(alpha)\n\u001b[1;32m   5753\u001b[0m \u001b[38;5;28;01mif\u001b[39;00m im\u001b[38;5;241m.\u001b[39mget_clip_path() \u001b[38;5;129;01mis\u001b[39;00m \u001b[38;5;28;01mNone\u001b[39;00m:\n\u001b[1;32m   5754\u001b[0m     \u001b[38;5;66;03m# image does not already have clipping set, clip to axes patch\u001b[39;00m\n",
      "File \u001b[0;32m~/anaconda3/envs/tfg/lib/python3.10/site-packages/matplotlib/image.py:723\u001b[0m, in \u001b[0;36m_ImageBase.set_data\u001b[0;34m(self, A)\u001b[0m\n\u001b[1;32m    721\u001b[0m \u001b[38;5;28;01mif\u001b[39;00m \u001b[38;5;28misinstance\u001b[39m(A, PIL\u001b[38;5;241m.\u001b[39mImage\u001b[38;5;241m.\u001b[39mImage):\n\u001b[1;32m    722\u001b[0m     A \u001b[38;5;241m=\u001b[39m pil_to_array(A)  \u001b[38;5;66;03m# Needed e.g. to apply png palette.\u001b[39;00m\n\u001b[0;32m--> 723\u001b[0m \u001b[38;5;28mself\u001b[39m\u001b[38;5;241m.\u001b[39m_A \u001b[38;5;241m=\u001b[39m \u001b[38;5;28;43mself\u001b[39;49m\u001b[38;5;241;43m.\u001b[39;49m\u001b[43m_normalize_image_array\u001b[49m\u001b[43m(\u001b[49m\u001b[43mA\u001b[49m\u001b[43m)\u001b[49m\n\u001b[1;32m    724\u001b[0m \u001b[38;5;28mself\u001b[39m\u001b[38;5;241m.\u001b[39m_imcache \u001b[38;5;241m=\u001b[39m \u001b[38;5;28;01mNone\u001b[39;00m\n\u001b[1;32m    725\u001b[0m \u001b[38;5;28mself\u001b[39m\u001b[38;5;241m.\u001b[39mstale \u001b[38;5;241m=\u001b[39m \u001b[38;5;28;01mTrue\u001b[39;00m\n",
      "File \u001b[0;32m~/anaconda3/envs/tfg/lib/python3.10/site-packages/matplotlib/image.py:693\u001b[0m, in \u001b[0;36m_ImageBase._normalize_image_array\u001b[0;34m(A)\u001b[0m\n\u001b[1;32m    691\u001b[0m     A \u001b[38;5;241m=\u001b[39m A\u001b[38;5;241m.\u001b[39msqueeze(\u001b[38;5;241m-\u001b[39m\u001b[38;5;241m1\u001b[39m)  \u001b[38;5;66;03m# If just (M, N, 1), assume scalar and apply colormap.\u001b[39;00m\n\u001b[1;32m    692\u001b[0m \u001b[38;5;28;01mif\u001b[39;00m \u001b[38;5;129;01mnot\u001b[39;00m (A\u001b[38;5;241m.\u001b[39mndim \u001b[38;5;241m==\u001b[39m \u001b[38;5;241m2\u001b[39m \u001b[38;5;129;01mor\u001b[39;00m A\u001b[38;5;241m.\u001b[39mndim \u001b[38;5;241m==\u001b[39m \u001b[38;5;241m3\u001b[39m \u001b[38;5;129;01mand\u001b[39;00m A\u001b[38;5;241m.\u001b[39mshape[\u001b[38;5;241m-\u001b[39m\u001b[38;5;241m1\u001b[39m] \u001b[38;5;129;01min\u001b[39;00m [\u001b[38;5;241m3\u001b[39m, \u001b[38;5;241m4\u001b[39m]):\n\u001b[0;32m--> 693\u001b[0m     \u001b[38;5;28;01mraise\u001b[39;00m \u001b[38;5;167;01mTypeError\u001b[39;00m(\u001b[38;5;124mf\u001b[39m\u001b[38;5;124m\"\u001b[39m\u001b[38;5;124mInvalid shape \u001b[39m\u001b[38;5;132;01m{\u001b[39;00mA\u001b[38;5;241m.\u001b[39mshape\u001b[38;5;132;01m}\u001b[39;00m\u001b[38;5;124m for image data\u001b[39m\u001b[38;5;124m\"\u001b[39m)\n\u001b[1;32m    694\u001b[0m \u001b[38;5;28;01mif\u001b[39;00m A\u001b[38;5;241m.\u001b[39mndim \u001b[38;5;241m==\u001b[39m \u001b[38;5;241m3\u001b[39m:\n\u001b[1;32m    695\u001b[0m     \u001b[38;5;66;03m# If the input data has values outside the valid range (after\u001b[39;00m\n\u001b[1;32m    696\u001b[0m     \u001b[38;5;66;03m# normalisation), we issue a warning and then clip X to the bounds\u001b[39;00m\n\u001b[1;32m    697\u001b[0m     \u001b[38;5;66;03m# - otherwise casting wraps extreme values, hiding outliers and\u001b[39;00m\n\u001b[1;32m    698\u001b[0m     \u001b[38;5;66;03m# making reliable interpretation impossible.\u001b[39;00m\n\u001b[1;32m    699\u001b[0m     high \u001b[38;5;241m=\u001b[39m \u001b[38;5;241m255\u001b[39m \u001b[38;5;28;01mif\u001b[39;00m np\u001b[38;5;241m.\u001b[39missubdtype(A\u001b[38;5;241m.\u001b[39mdtype, np\u001b[38;5;241m.\u001b[39minteger) \u001b[38;5;28;01melse\u001b[39;00m \u001b[38;5;241m1\u001b[39m\n",
      "\u001b[0;31mTypeError\u001b[0m: Invalid shape (100, 28, 28) for image data"
     ]
    },
    {
     "data": {
      "image/png": "[encoded data removed]",
      "text/plain": [
       "<Figure size 640x480 with 1 Axes>"
      ]
     },
     "metadata": {},
     "output_type": "display_data"
    }
   ],
   "source": [
    "show_img_class(img, y)"
   ]
  },
  {
   "cell_type": "code",
   "execution_count": 23,
   "id": "8ed4a815-736b-4ebe-b3a0-51fee6246c8c",
   "metadata": {},
   "outputs": [],
   "source": [
    "img = img.to(device)"
   ]
  },
  {
   "cell_type": "code",
   "execution_count": 24,
   "id": "29e08f4f-cad6-4218-ae27-33a47c20023c",
   "metadata": {},
   "outputs": [
    {
     "name": "stdout",
     "output_type": "stream",
     "text": [
      "tensor([[-5.9860e+00,  1.9131e+00,  7.3537e-02,  3.3929e+00, -7.5037e+00,\n",
      "         -5.2950e+00, -9.5118e+00,  2.0419e+01, -2.8274e+00,  1.6150e+00],\n",
      "        [ 3.3496e+00,  5.5800e+00,  1.7620e+01,  1.8380e-01, -9.0810e-01,\n",
      "         -1.2905e+01,  2.9568e+00, -5.0171e+00,  1.3114e+00, -4.8828e+00],\n",
      "        [-1.2203e+00,  1.4014e+01, -2.9109e+00, -4.1198e+00,  3.3495e+00,\n",
      "         -1.9990e+00, -1.5460e+00,  2.5542e+00, -1.2634e+00, -3.0122e+00],\n",
      "        [ 1.8051e+01, -7.2395e+00, -2.4095e+00, -5.6805e+00, -7.7377e+00,\n",
      "         -4.9546e+00,  7.1877e+00, -2.6646e+00,  4.7450e+00, -3.6170e-01],\n",
      "        [-1.1609e+01,  4.9357e+00, -3.6111e+00, -5.7160e+00,  2.4417e+01,\n",
      "         -8.3227e+00, -4.4025e+00,  2.0409e+00,  1.1171e+00,  7.1878e+00],\n",
      "        [-6.0080e-01,  1.5515e+01, -1.7389e+00, -5.3339e+00,  2.8158e+00,\n",
      "         -5.1980e+00, -1.5319e+00,  3.7911e+00, -3.9241e-01, -2.3027e+00],\n",
      "        [-1.5621e+01,  2.3284e+00, -3.9359e+00, -7.5590e+00,  2.1144e+01,\n",
      "         -7.1696e+00, -5.2292e+00,  4.3149e-01,  1.0029e+01,  7.5978e+00],\n",
      "        [-7.7231e+00, -2.4843e+00, -4.6406e-03, -1.2953e+00,  3.0564e+00,\n",
      "         -2.7845e+00, -1.1295e+01, -6.4084e+00,  8.7847e+00,  1.6301e+01],\n",
      "        [-9.0824e-01, -1.4140e+01, -1.4456e+01, -4.2486e+00, -6.1152e+00,\n",
      "          1.7298e+01,  1.0932e+01, -1.3516e+01,  1.1291e+01,  2.4240e+00],\n",
      "        [-9.4337e+00, -9.4493e+00, -9.8161e+00, -3.2539e+00,  6.0392e+00,\n",
      "         -7.8909e+00, -7.9863e+00,  7.4025e+00,  1.0329e+01,  1.7618e+01],\n",
      "        [ 2.3389e+01, -3.1991e+00,  2.4772e-01, -6.5273e+00, -1.1431e+01,\n",
      "         -2.2541e+00,  4.1354e+00, -2.6431e+00,  5.2585e-01, -2.5204e+00],\n",
      "        [ 8.2066e+00, -1.1691e+01, -1.5317e+01, -5.1072e+00, -5.8999e+00,\n",
      "          5.3415e+00,  2.5926e+01, -1.3610e+01,  1.0036e+01, -2.0692e+00],\n",
      "        [-1.0702e+01, -9.1847e+00, -9.9448e+00, -1.1636e+00,  6.0322e+00,\n",
      "         -5.3130e+00, -7.4290e+00,  5.2731e+00,  8.3855e+00,  1.7673e+01],\n",
      "        [ 2.0270e+01, -6.8781e+00, -3.5584e+00, -9.8265e+00, -7.0345e+00,\n",
      "         -2.6251e+00,  4.2910e+00,  8.2983e-01,  1.0486e+00,  3.3022e+00],\n",
      "        [-2.9148e+00,  1.0423e+01, -6.9068e+00,  1.4539e+00,  2.3689e-01,\n",
      "          1.2751e-01, -2.0230e+00, -3.2536e+00,  3.1849e+00, -2.0527e+00],\n",
      "        [-6.4144e+00, -6.5633e+00, -6.9500e+00,  8.9720e+00, -6.6665e+00,\n",
      "          1.5623e+01, -8.7820e-01, -1.0486e+01,  6.0210e+00, -4.6289e+00],\n",
      "        [-9.9652e+00, -1.1290e+01, -9.4883e+00, -2.8593e+00,  5.9095e+00,\n",
      "         -5.6067e+00, -8.9037e+00,  6.4971e+00,  8.2029e+00,  2.0919e+01],\n",
      "        [-2.3055e+00,  3.1035e-01,  1.1647e-01,  5.4814e+00, -1.1536e+01,\n",
      "         -4.1746e+00, -1.0162e+01,  2.2647e+01, -5.6437e+00,  8.6372e-01],\n",
      "        [-2.4401e+00, -1.2253e+01, -3.1316e+00,  1.2323e+01, -1.0372e+01,\n",
      "          7.0149e+00, -2.1514e+00, -1.1123e+01,  1.1248e+01, -2.5640e+00],\n",
      "        [-1.2528e+01,  5.5481e+00,  3.7537e+00, -4.2657e+00,  2.2022e+01,\n",
      "         -6.1705e+00, -1.0049e+01,  5.5208e+00, -1.9901e-01,  2.1233e+00],\n",
      "        [-7.4685e+00, -6.0977e+00, -9.0980e+00,  5.2625e-01,  3.9560e+00,\n",
      "         -3.4242e+00, -8.1939e+00,  2.6325e+00,  5.5098e+00,  1.6570e+01],\n",
      "        [ 4.7652e+00, -1.1633e+01, -1.3417e+01, -4.7842e-01, -7.9489e+00,\n",
      "          1.2529e+01,  2.3380e+01, -1.7788e+01,  7.9387e+00, -3.5366e+00],\n",
      "        [ 4.2862e+00, -8.9588e+00, -1.4379e+01, -6.7088e+00, -1.7076e+00,\n",
      "          2.9807e+00,  2.4038e+01, -7.7488e+00,  8.9677e+00, -2.5625e+00],\n",
      "        [-3.5187e+00, -1.1703e+01, -1.1945e+01,  5.5801e+00, -5.2675e+00,\n",
      "          1.9727e+01,  4.1884e+00, -1.4325e+01,  3.7104e+00,  3.1469e+00],\n",
      "        [-1.2630e+01,  5.5811e+00,  8.4413e-02, -5.3244e+00,  2.0814e+01,\n",
      "         -6.0788e+00, -9.1754e+00,  7.3414e+00, -8.8764e-01,  5.8554e+00],\n",
      "        [ 1.9622e+01, -7.1382e+00,  9.8763e-01, -8.7567e+00, -4.8573e+00,\n",
      "         -5.3700e+00,  7.9228e+00, -3.9280e+00,  6.1342e+00, -4.4776e+00],\n",
      "        [-4.0060e+00,  4.3487e+00,  1.5997e+00, -3.2683e-01, -1.6762e+00,\n",
      "         -3.9951e+00, -1.2142e+01,  1.8454e+01, -6.3697e+00,  4.1887e+00],\n",
      "        [-1.4930e+01,  7.7116e+00,  2.2868e+00, -6.4941e+00,  3.6318e+01,\n",
      "         -1.2169e+01, -1.0860e+01,  2.0743e+00,  1.4268e+00,  5.0857e+00],\n",
      "        [ 1.8105e+01, -6.2026e+00, -1.1265e+00, -3.7448e+00, -8.5466e+00,\n",
      "         -3.2583e+00,  1.6260e+00,  1.4736e+00,  1.7946e+00, -2.0824e+00],\n",
      "        [-4.0460e+00,  1.2474e+01, -3.6711e+00, -1.1698e+00,  4.7272e-01,\n",
      "         -2.3885e+00, -2.6543e+00,  9.5199e-01,  2.3377e+00, -1.6887e+00],\n",
      "        [-9.2016e+00, -1.1164e+01, -5.1042e+00,  2.2476e+01, -1.0423e+01,\n",
      "          3.1322e+00, -8.9512e+00, -2.2612e+00,  2.8323e+00,  5.2187e+00],\n",
      "        [-5.3750e+00,  1.2331e+01, -1.0034e+00, -2.7302e+00,  1.0546e+00,\n",
      "         -3.9147e+00, -5.5341e+00,  3.6518e+00,  2.2180e+00,  4.3324e-03],\n",
      "        [-1.0345e+01, -7.4192e+00, -2.6831e+00,  2.1940e+01, -9.6193e+00,\n",
      "          4.6897e+00, -4.8178e+00, -9.9181e+00,  6.1920e+00, -1.2961e+00],\n",
      "        [ 7.8836e+00,  1.2496e+01,  5.2332e+00, -1.3417e+01,  2.4027e+01,\n",
      "         -4.9343e+00,  1.8063e+00, -2.6238e+00, -8.8741e+00, -5.2663e+00],\n",
      "        [-9.0246e+00,  6.5438e+00, -1.1078e+00,  3.9314e+00, -6.2972e+00,\n",
      "         -8.6718e+00, -8.6435e+00,  2.2135e+01, -4.0031e-01, -1.7171e+00],\n",
      "        [-1.6719e-01,  3.0616e+00,  2.4378e+01,  6.0826e+00, -5.5709e+00,\n",
      "         -1.2954e+01, -3.1787e+00, -2.8298e+00,  4.5500e+00, -1.1687e+01],\n",
      "        [-5.6768e+00,  5.6344e+00,  9.0358e+00,  2.7109e+00, -4.0950e+00,\n",
      "         -1.0756e+01, -9.9064e+00,  1.8550e+01, -2.5602e+00, -2.4407e+00],\n",
      "        [-2.2091e+00,  1.2439e+01, -4.7821e+00, -3.4208e+00,  4.6915e-02,\n",
      "         -2.6198e+00, -3.4346e+00,  1.5727e+00,  2.6219e+00,  3.2607e-01],\n",
      "        [ 4.7138e+00,  3.1591e+00,  1.0389e+01,  3.2266e+00, -7.9222e+00,\n",
      "         -9.3708e+00, -2.7636e-01, -6.4318e-01,  4.5144e+00, -7.5834e+00],\n",
      "        [-5.6387e-01,  1.0215e+01, -4.9956e+00, -6.3280e-01, -1.7673e+00,\n",
      "         -3.1052e+00,  9.2210e-01, -2.6675e+00,  3.7459e+00, -1.4509e+00],\n",
      "        [-3.8582e-01,  8.9735e+00, -4.8513e+00, -2.4533e+00,  4.1494e-01,\n",
      "         -4.4120e-01, -2.6682e+00, -4.1405e-01,  1.7791e+00, -7.5146e-02],\n",
      "        [-5.5982e+00,  3.5689e+00,  6.1901e+00,  1.9017e+00,  4.4459e-01,\n",
      "         -6.8424e+00, -9.6811e+00,  1.3947e+01, -2.0410e+00, -1.4815e+00],\n",
      "        [-1.2977e+01,  5.6176e+00, -9.3421e+00, -7.0891e+00,  1.9679e+01,\n",
      "         -4.2984e+00, -3.5138e+00,  5.5397e+00,  1.6116e+00,  8.8900e+00],\n",
      "        [-6.1620e+00,  5.2964e+00,  1.7387e+01,  3.4948e+00,  6.6430e+00,\n",
      "         -5.9083e+00, -3.3083e+00, -1.3323e+00,  7.2831e-01, -1.2821e+01],\n",
      "        [-5.4802e+00, -4.3441e+00, -2.1600e-01,  1.5346e+01, -7.9851e+00,\n",
      "          1.9395e+00, -4.0321e+00, -4.3294e+00,  2.9478e+00, -2.3002e+00],\n",
      "        [ 2.6940e+00, -1.1152e+01, -7.7168e+00,  4.2245e+00, -1.0344e+01,\n",
      "          1.4105e+01,  4.3371e+00, -1.3694e+01,  8.2422e+00, -2.1865e+00],\n",
      "        [-5.1696e+00,  1.3083e+01,  1.1689e+00,  2.7636e-01, -2.2414e+00,\n",
      "         -3.6572e+00, -4.4641e+00, -2.0635e-01,  3.6382e+00, -2.7721e+00],\n",
      "        [-3.6511e-01,  2.1940e-01,  2.7327e+01,  4.7765e+00, -7.3629e-01,\n",
      "         -9.5882e+00, -4.9952e+00, -2.7342e+00,  2.0672e+00, -1.3722e+01],\n",
      "        [-1.0244e+01,  1.7180e+00, -3.5224e+00, -1.4855e+00,  1.6997e+01,\n",
      "         -4.7958e+00, -7.0796e+00, -3.1004e-01,  4.1105e+00,  5.7149e+00],\n",
      "        [-1.4791e+01,  6.2236e+00, -3.5847e+00, -9.0161e+00,  2.7258e+01,\n",
      "         -8.0609e+00, -7.0615e+00,  4.9274e+00,  3.1675e+00,  6.9862e+00],\n",
      "        [ 6.9826e+00, -8.8620e+00, -1.1283e+01,  1.1166e+00, -7.2654e+00,\n",
      "          7.6475e+00,  2.3096e+01, -1.5725e+01,  6.4184e+00, -6.0894e+00],\n",
      "        [-9.6163e+00, -1.0200e+01, -3.9844e+00,  2.1465e+01, -9.7238e+00,\n",
      "          2.6378e+00, -6.4163e+00, -4.2964e+00,  9.1628e+00, -3.8947e+00],\n",
      "        [-4.7467e+00, -1.4657e+01, -1.5251e+01,  8.1257e+00, -6.5787e+00,\n",
      "          2.0701e+01,  3.6527e+00, -1.7781e+01,  7.1908e+00,  5.6732e+00],\n",
      "        [-8.5794e+00, -9.1485e+00, -1.2632e+01,  6.3319e+00, -4.8650e+00,\n",
      "          1.5316e+01,  6.0515e-01, -9.6707e+00,  6.7354e+00,  3.5356e+00],\n",
      "        [ 9.0037e+00, -7.4087e+00, -1.7251e+01, -7.4168e+00, -5.1086e+00,\n",
      "          1.0405e+01,  3.0544e+01, -1.6262e+01,  7.4574e+00, -6.1227e+00],\n",
      "        [ 2.2645e+01, -3.9232e+00,  1.2696e+00, -9.3797e+00, -7.5352e+00,\n",
      "         -2.2279e+00,  2.9950e+00, -4.4605e+00,  3.2326e+00, -2.1958e+00],\n",
      "        [-1.1122e+01,  1.1263e+01, -2.5274e-01, -9.6685e+00,  2.9439e+01,\n",
      "         -7.1300e+00, -3.3961e+00,  3.5302e+00, -1.8788e+00,  6.0868e-01],\n",
      "        [-4.8367e-01,  1.3417e+01,  1.4651e-01, -3.4556e+00,  2.4194e+00,\n",
      "         -5.8911e+00, -3.4465e+00,  2.8920e+00,  1.2875e+00, -3.3162e+00],\n",
      "        [-1.1051e+01, -9.9333e+00, -8.7133e+00, -8.0363e-01,  8.7805e+00,\n",
      "         -4.2314e+00, -1.1828e+01,  4.7546e+00,  5.3464e+00,  2.2394e+01],\n",
      "        [-5.2320e+00, -6.4456e+00, -1.3436e+01,  4.0645e-01, -3.0988e+00,\n",
      "          1.1902e+01, -2.9194e+00, -8.7913e-02,  5.4763e+00,  3.2535e+00],\n",
      "        [-8.8293e+00,  1.9082e+00, -2.6884e+00,  3.5563e+00, -6.7012e+00,\n",
      "         -2.0846e+00, -1.3570e+01,  2.0053e+01, -2.2583e+00,  4.1195e+00],\n",
      "        [ 1.3361e-01, -1.8995e+01, -1.5631e+00,  5.5129e+00, -1.3155e+01,\n",
      "         -1.2868e+00, -1.7980e-01, -1.2731e+01,  2.3825e+01,  7.7920e-01],\n",
      "        [-6.9309e+00, -6.6427e+00, -1.1236e+01, -4.2389e+00, -2.2274e+00,\n",
      "          6.9042e+00,  1.2494e+00,  3.5845e-01,  6.6337e+00,  9.1682e+00],\n",
      "        [-4.2706e+00, -9.8681e+00,  1.1488e+01,  1.6712e+01, -1.1311e+01,\n",
      "         -4.4877e+00, -1.2498e+01, -3.8040e+00,  9.7500e+00, -3.5902e+00],\n",
      "        [-1.6279e+01,  4.5382e+00,  4.9267e+00,  3.8616e+00,  4.6080e+00,\n",
      "         -1.0521e+01, -1.3588e+01,  2.4436e+01,  5.2031e-01, -4.4400e+00],\n",
      "        [-6.8095e+00,  4.1470e+00,  5.2203e-01, -1.3046e+00,  1.0700e+01,\n",
      "         -3.2936e+00, -8.8437e+00,  1.1341e+00,  2.4569e+00,  2.1670e+00],\n",
      "        [ 8.8040e+00, -4.9997e+00, -1.3171e+01, -5.9508e+00, -4.3813e+00,\n",
      "          3.9273e-01,  2.0879e+01, -7.1503e+00,  5.4637e+00, -1.4242e-01],\n",
      "        [-1.2974e+01,  2.3388e+00, -5.2863e+00, -6.5847e+00,  2.3203e+01,\n",
      "         -4.2627e+00, -8.1000e+00,  8.7513e-01,  4.1061e+00,  9.6309e+00],\n",
      "        [-9.1945e+00, -8.7720e+00, -2.1754e+00,  2.2338e+01, -1.2539e+01,\n",
      "          7.9747e-01, -8.7169e+00, -3.3779e+00,  6.4977e+00,  1.0445e+00],\n",
      "        [ 1.9127e+01, -1.1700e+01, -9.8089e+00, -5.7884e+00, -1.3101e+01,\n",
      "          4.4905e+00,  7.2153e+00, -7.3506e+00,  4.2309e+00,  6.7911e+00],\n",
      "        [-2.4235e+00, -2.0613e+00, -2.8366e-01,  4.3099e+00, -1.1408e+01,\n",
      "         -3.2447e+00, -7.6599e+00,  2.0768e+01, -3.7131e+00,  2.5969e-01],\n",
      "        [ 2.3584e+01, -4.6841e+00, -8.6860e-01, -8.1159e+00, -8.4208e+00,\n",
      "         -4.4435e+00,  5.6315e+00, -3.4967e+00,  9.9840e-01,  7.3967e-01],\n",
      "        [ 1.7183e+00,  1.8258e+00,  2.5981e+01,  9.5774e+00, -8.2510e+00,\n",
      "         -1.0010e+01, -9.3229e+00, -3.9881e-01, -1.9254e-01, -9.6058e+00],\n",
      "        [-2.9780e+00, -3.3750e+00, -5.2395e+00, -1.6613e+00, -1.6971e+00,\n",
      "         -9.8296e+00, -8.6640e+00,  3.8492e+00,  1.0576e+01,  1.2957e+01],\n",
      "        [-1.9074e+00,  1.2030e+01, -7.2364e+00, -3.0284e+00,  1.3867e+00,\n",
      "         -1.3695e+00, -1.8811e+00, -4.9902e-01,  2.5692e+00,  4.8684e-01],\n",
      "        [-1.7379e+01,  4.6099e+00,  3.5625e+00,  1.4352e+00,  5.9637e+00,\n",
      "         -9.5179e+00, -1.3986e+01,  2.1323e+01,  1.0516e+00,  1.1319e+00],\n",
      "        [-8.2859e+00, -8.8960e+00, -2.3961e+00,  2.2107e+01, -1.0405e+01,\n",
      "          3.6033e+00, -4.7399e+00, -9.9869e+00,  6.1175e+00, -4.7579e-02],\n",
      "        [ 2.0656e+00,  2.5772e+00,  1.8440e+01, -7.4751e-02, -3.9019e+00,\n",
      "         -9.2692e+00, -1.0330e+01,  4.9381e+00, -7.8150e-01, -9.2466e-01],\n",
      "        [-2.7746e+00, -5.9146e+00, -5.8176e+00, -1.5077e+00,  6.2552e+00,\n",
      "         -7.8581e+00, -6.0548e+00, -2.6457e+00,  8.2768e+00,  1.5357e+01],\n",
      "        [-6.3566e+00, -7.6472e-01, -3.3106e-02,  4.4836e-01, -4.1732e+00,\n",
      "         -1.0012e+01, -9.2791e+00,  1.7863e+01,  4.0976e+00,  3.3239e+00],\n",
      "        [-4.8456e+00,  5.4034e+00, -2.5617e+00, -6.5281e+00,  2.1688e+00,\n",
      "         -4.1084e+00, -9.4172e+00,  1.7410e+01, -1.3068e+00,  4.4945e+00],\n",
      "        [ 5.7356e+00, -1.1823e+01, -1.3924e+01, -2.8836e+00, -1.0824e+01,\n",
      "          1.0028e+01,  2.4732e+01, -1.4150e+01,  7.8602e+00, -1.1832e+00],\n",
      "        [-8.1187e+00,  9.1833e+00,  3.0487e+01,  5.8739e+00,  9.4739e-01,\n",
      "         -1.1084e+01, -8.8972e+00,  2.3908e+00, -5.0177e-01, -1.5567e+01],\n",
      "        [-6.5045e+00,  7.6195e+00,  2.2968e-01,  1.6206e-01, -1.9607e+00,\n",
      "         -5.2015e+00, -1.1114e+01,  2.1548e+01, -6.0856e+00,  1.5324e+00],\n",
      "        [-5.5062e+00, -1.6433e+01, -1.2644e+01,  5.2331e+00, -5.6906e+00,\n",
      "         -6.8932e-01,  8.5938e+00, -1.3070e+01,  2.3917e+01,  5.4826e-01],\n",
      "        [-1.3664e+01,  6.7385e+00, -4.1215e+00, -3.0874e+00,  1.9575e+01,\n",
      "         -4.2180e+00, -5.9179e+00,  4.1873e+00,  2.0391e+00,  1.7335e+00],\n",
      "        [-6.2045e+00,  7.2183e-01, -3.3203e+00,  1.4719e+00, -7.2593e+00,\n",
      "         -8.1005e+00, -9.0316e+00,  1.5914e+01,  4.1452e+00,  5.6261e+00],\n",
      "        [-7.7325e+00, -4.5767e+00,  5.3988e+00,  1.4948e+01, -4.1385e+00,\n",
      "         -5.1157e+00, -5.2462e+00,  1.2426e+00,  3.9555e+00, -4.8141e+00],\n",
      "        [ 7.3281e+00, -8.1373e+00, -1.0552e+01, -7.0957e+00, -2.2704e+00,\n",
      "          5.9593e+00,  2.8357e+01, -1.1740e+01,  7.8179e+00, -1.0339e+01],\n",
      "        [-2.6537e+00,  9.9690e+00, -2.1289e-01,  3.9886e-01,  1.8444e+00,\n",
      "         -4.8010e+00,  8.1776e-01, -7.0290e-01,  1.3468e+00, -3.5378e+00],\n",
      "        [-5.7167e+00, -1.5079e+01, -2.6846e+00,  2.3943e+01, -1.4980e+01,\n",
      "          3.5174e+00, -9.2146e+00, -8.2647e+00,  8.4029e+00,  2.7335e+00],\n",
      "        [ 3.0300e+00, -1.0703e+01, -1.2106e+01,  7.7574e-02, -4.1340e+00,\n",
      "          7.8994e+00,  2.2991e+01, -1.7072e+01,  8.0101e+00, -2.8417e+00],\n",
      "        [-7.7981e+00, -2.8329e+00, -6.5519e+00, -1.2046e+00,  8.7255e+00,\n",
      "         -3.4955e+00, -5.0862e+00,  9.0755e-01,  5.5351e+00,  9.2387e+00],\n",
      "        [-4.4753e+00, -5.8887e+00, -1.9930e+00,  1.6252e+01, -8.8984e+00,\n",
      "          1.8247e+00, -1.0305e+01, -4.4305e+00,  4.5466e+00,  2.4925e+00],\n",
      "        [-1.5096e+00,  1.1764e+01,  7.7703e-01, -1.5186e+00, -4.2394e-01,\n",
      "         -4.8972e+00, -9.7401e-02, -3.2927e+00,  4.9329e+00, -4.4588e+00],\n",
      "        [-3.4317e+00, -4.3516e+00, -7.0639e+00, -6.4468e+00,  1.1910e+01,\n",
      "         -7.5660e+00,  5.8972e+00, -3.7715e+00,  1.0178e+01,  4.7518e+00],\n",
      "        [-6.2676e+00,  9.8440e+00, -9.5664e-01, -1.9671e-01, -1.0779e+00,\n",
      "         -2.3350e+00, -7.3000e+00,  2.2737e+00,  3.0154e+00,  1.5935e+00],\n",
      "        [-1.2146e+01,  2.6023e+00,  2.9017e+00,  4.5734e+00,  1.8951e+00,\n",
      "         -9.7201e+00, -8.3428e+00,  1.2840e+01,  7.0480e+00, -5.7165e+00],\n",
      "        [ 9.5625e+00, -1.4446e+01, -6.9211e+00, -4.7139e+00, -9.0144e+00,\n",
      "          9.3958e+00,  2.3344e+01, -1.8151e+01,  9.4009e+00, -4.0712e+00],\n",
      "        [-1.0739e+01, -9.1783e+00, -6.9215e+00, -2.2802e+00,  4.0752e+00,\n",
      "         -6.4556e+00, -1.3505e+01,  6.7704e+00,  7.3449e+00,  2.4895e+01]])\n"
     ]
    }
   ],
   "source": [
    "model.eval()\n",
    "with torch.no_grad():\n",
    "    output = model(img)\n",
    "print(output)"
   ]
  },
  {
   "cell_type": "code",
   "execution_count": 26,
   "id": "ba17f9de-9b40-4a3a-a09d-25779f37c0d9",
   "metadata": {},
   "outputs": [
    {
     "data": {
      "text/plain": [
       "-278.7170715332031"
      ]
     },
     "execution_count": 26,
     "metadata": {},
     "output_type": "execute_result"
    }
   ],
   "source": [
    "output.sum().item()"
   ]
  },
  {
   "cell_type": "markdown",
   "id": "84544d26-7d7e-4108-8b09-314dd0582e9f",
   "metadata": {},
   "source": [
    "### not_so_sure"
   ]
  },
  {
   "cell_type": "code",
   "execution_count": 19,
   "id": "0ef3c562-0b03-4007-89f3-3937db7406eb",
   "metadata": {},
   "outputs": [],
   "source": [
    "not_so_sure = []\n",
    "model.eval()\n",
    "with torch.no_grad():\n",
    "    for elem in test_data:\n",
    "        output = model(elem[0])\n",
    "        if output[0].max().item() < 0.6:\n",
    "            not_so_sure.append(elem)"
   ]
  },
  {
   "cell_type": "code",
   "execution_count": 20,
   "id": "12e79337-52b6-4776-bae0-005b8fc4b646",
   "metadata": {},
   "outputs": [
    {
     "data": {
      "text/plain": [
       "313"
      ]
     },
     "execution_count": 20,
     "metadata": {},
     "output_type": "execute_result"
    }
   ],
   "source": [
    "len(not_so_sure)"
   ]
  },
  {
   "cell_type": "code",
   "execution_count": 21,
   "id": "c4ada498-16c0-4107-a97e-06f033e494ea",
   "metadata": {},
   "outputs": [
    {
     "name": "stdout",
     "output_type": "stream",
     "text": [
      "tensor([[1.5422e-04, 1.1521e-07, 5.8984e-01, 2.4448e-05, 7.1862e-09, 1.1442e-05,\n",
      "         6.3286e-06, 4.0972e-01, 2.0477e-04, 3.6491e-05]])\n"
     ]
    }
   ],
   "source": [
    "img, y = not_so_sure[1]\n",
    "model.eval()\n",
    "with torch.no_grad():\n",
    "    output = model(img)\n",
    "print(output)"
   ]
  },
  {
   "cell_type": "code",
   "execution_count": 22,
   "id": "f6178c84-c103-4eca-b6aa-96d4c1fabfab",
   "metadata": {},
   "outputs": [
    {
     "data": {
      "image/png": "[encoded data removed]",
      "text/plain": [
       "<Figure size 640x480 with 1 Axes>"
      ]
     },
     "metadata": {},
     "output_type": "display_data"
    },
    {
     "name": "stdout",
     "output_type": "stream",
     "text": [
      "2\n"
     ]
    }
   ],
   "source": [
    "show_img_class(img, y)"
   ]
  },
  {
   "cell_type": "markdown",
   "id": "566c7620-486f-4989-a94a-9547458a5c27",
   "metadata": {},
   "source": [
    "## Conformal prediction and uncertainty quantification"
   ]
  },
  {
   "cell_type": "code",
   "execution_count": 23,
   "id": "f5a5e9b3-66e0-4a3c-bbf3-bf104f9444c1",
   "metadata": {},
   "outputs": [
    {
     "data": {
      "text/plain": [
       "10000"
      ]
     },
     "execution_count": 23,
     "metadata": {},
     "output_type": "execute_result"
    }
   ],
   "source": [
    "len(test_data)"
   ]
  },
  {
   "cell_type": "code",
   "execution_count": 24,
   "id": "8d6a591f-d222-4f5b-bfd4-a7d419255663",
   "metadata": {},
   "outputs": [],
   "source": [
    "num_samples = 100\n",
    "alpha = 0.1"
   ]
  },
  {
   "cell_type": "code",
   "execution_count": 25,
   "id": "8de62e5e-a45d-4026-b763-d7decdca1166",
   "metadata": {},
   "outputs": [],
   "source": [
    "calib_dataset = Subset(test_data, torch.arange(num_samples))"
   ]
  },
  {
   "cell_type": "markdown",
   "id": "b761941a-2605-4e38-b84a-4cbe607cba92",
   "metadata": {
    "jp-MarkdownHeadingCollapsed": true
   },
   "source": [
    "### Old method"
   ]
  },
  {
   "cell_type": "code",
   "execution_count": 26,
   "id": "f4210c1f-219a-42e4-acbc-ea9420d1fde6",
   "metadata": {},
   "outputs": [],
   "source": [
    "list_scores = []\n",
    "model.eval()\n",
    "with torch.no_grad():\n",
    "    for img, y in calib_dataset:\n",
    "        correct_class_score = model(img).flatten()[y]\n",
    "        list_scores.append(correct_class_score)"
   ]
  },
  {
   "cell_type": "code",
   "execution_count": 27,
   "id": "5da5fa61-8708-4161-8471-d518796fc7f6",
   "metadata": {},
   "outputs": [],
   "source": [
    "# alpha_hat = ?"
   ]
  },
  {
   "cell_type": "code",
   "execution_count": 28,
   "id": "4fa42961-e5c1-48e3-b0be-a4a915e05a46",
   "metadata": {},
   "outputs": [
    {
     "name": "stdout",
     "output_type": "stream",
     "text": [
      "0.58983845\n"
     ]
    }
   ],
   "source": [
    "q = np.quantile(list_scores, alpha, method='lower')\n",
    "print(q)"
   ]
  },
  {
   "cell_type": "markdown",
   "id": "da9649a1-594f-441d-af24-7ea05271b97f",
   "metadata": {},
   "source": [
    "### New method"
   ]
  },
  {
   "cell_type": "code",
   "execution_count": 29,
   "id": "27685cd5-6ddb-4ca9-b99b-cfd5e2c38c41",
   "metadata": {},
   "outputs": [
    {
     "data": {
      "text/plain": [
       "NumberNetwork(\n",
       "  (flatten): Flatten(start_dim=1, end_dim=-1)\n",
       "  (linear_relu_stack): Sequential(\n",
       "    (0): Linear(in_features=784, out_features=512, bias=True)\n",
       "    (1): ReLU()\n",
       "    (2): Linear(in_features=512, out_features=512, bias=True)\n",
       "    (3): ReLU()\n",
       "    (4): Linear(in_features=512, out_features=10, bias=True)\n",
       "    (5): Softmax(dim=1)\n",
       "  )\n",
       ")"
      ]
     },
     "execution_count": 29,
     "metadata": {},
     "output_type": "execute_result"
    }
   ],
   "source": [
    "model"
   ]
  },
  {
   "cell_type": "code",
   "execution_count": 30,
   "id": "8d87e6a4-d304-4d5f-9473-b95066aa1235",
   "metadata": {},
   "outputs": [],
   "source": [
    "# Es podria fer més d'una predicció alhora amb DataLoader si es treballa amb GPU"
   ]
  },
  {
   "cell_type": "code",
   "execution_count": 31,
   "id": "8848c1e0-6259-4b5d-adee-fb1ae88e917c",
   "metadata": {},
   "outputs": [],
   "source": [
    "list_sum_scores = []\n",
    "model.eval()\n",
    "with torch.no_grad():\n",
    "    for img, y in calib_dataset:\n",
    "        scores = list(enumerate(model(img).flatten()))\n",
    "        scores_until_correct = [score for num, score in scores if score >= scores[y][1]]  # or num == y\n",
    "        list_sum_scores.append(sum(scores_until_correct))"
   ]
  },
  {
   "cell_type": "code",
   "execution_count": 32,
   "id": "10584c50-1bd4-42b1-b90e-1ba3a4303ded",
   "metadata": {},
   "outputs": [
    {
     "name": "stdout",
     "output_type": "stream",
     "text": [
      "0.9\n"
     ]
    }
   ],
   "source": [
    "p = 1-alpha\n",
    "print(p)"
   ]
  },
  {
   "cell_type": "code",
   "execution_count": 33,
   "id": "f34a98aa-9e19-4be1-b739-b7fda59001c5",
   "metadata": {},
   "outputs": [
    {
     "name": "stdout",
     "output_type": "stream",
     "text": [
      "0.91\n"
     ]
    }
   ],
   "source": [
    "p_hat = ceil((num_samples+1)*p) / num_samples\n",
    "print(p_hat)"
   ]
  },
  {
   "cell_type": "code",
   "execution_count": 34,
   "id": "70eab4e1-3520-4ccb-b0c2-8062a9b76d41",
   "metadata": {},
   "outputs": [
    {
     "name": "stdout",
     "output_type": "stream",
     "text": [
      "0.9999999\n"
     ]
    }
   ],
   "source": [
    "q_hat = np.quantile(list_sum_scores, p_hat, method='higher')\n",
    "print(q_hat)"
   ]
  },
  {
   "cell_type": "markdown",
   "id": "2670231f-01de-4799-a294-0918d15fb6c8",
   "metadata": {},
   "source": [
    "### Getting prediction sets"
   ]
  },
  {
   "cell_type": "code",
   "execution_count": 35,
   "id": "502d2379-7e93-4401-b30f-eb6a5fd99085",
   "metadata": {},
   "outputs": [],
   "source": [
    "def get_prediction_list(img):\n",
    "    prediction_list = []\n",
    "    sorted_scores = sorted(enumerate(model(img).flatten()), key=lambda item: item[1], reverse=True)\n",
    "    cumsum = 0\n",
    "    for num, score in sorted_scores:\n",
    "        cumsum += score\n",
    "        prediction_list.append(num)\n",
    "        if cumsum >= q_hat:\n",
    "            break\n",
    "    return prediction_list"
   ]
  },
  {
   "cell_type": "code",
   "execution_count": 36,
   "id": "ec6f149d-e056-4cb4-93df-ad5dcdce4f0b",
   "metadata": {},
   "outputs": [],
   "source": [
    "def run_predictions_data(data):\n",
    "    df = pd.DataFrame(columns=['true_class', 'prediction_list'])\n",
    "    model.eval()\n",
    "    with torch.no_grad():\n",
    "        for idx, (img, y) in enumerate(data):\n",
    "            df.loc[len(df)] = {'true_class': y, 'prediction_list': get_prediction_list(img)}\n",
    "    return df"
   ]
  },
  {
   "cell_type": "code",
   "execution_count": 37,
   "id": "999f0dfc-1560-4169-8c93-856705b9f1a4",
   "metadata": {},
   "outputs": [
    {
     "name": "stdout",
     "output_type": "stream",
     "text": [
      "9900\n"
     ]
    }
   ],
   "source": [
    "remaining_test_data = Subset(test_data, torch.arange(num_samples, len(test_data)))\n",
    "print(len(remaining_test_data))"
   ]
  },
  {
   "cell_type": "code",
   "execution_count": 38,
   "id": "9513a21f-2314-4c7d-af0d-d782c1dae151",
   "metadata": {},
   "outputs": [
    {
     "data": {
      "text/html": [
       "<div>\n",
       "<style scoped>\n",
       "    .dataframe tbody tr th:only-of-type {\n",
       "        vertical-align: middle;\n",
       "    }\n",
       "\n",
       "    .dataframe tbody tr th {\n",
       "        vertical-align: top;\n",
       "    }\n",
       "\n",
       "    .dataframe thead th {\n",
       "        text-align: right;\n",
       "    }\n",
       "</style>\n",
       "<table border=\"1\" class=\"dataframe\">\n",
       "  <thead>\n",
       "    <tr style=\"text-align: right;\">\n",
       "      <th></th>\n",
       "      <th>true_class</th>\n",
       "      <th>prediction_list</th>\n",
       "    </tr>\n",
       "  </thead>\n",
       "  <tbody>\n",
       "    <tr>\n",
       "      <th>0</th>\n",
       "      <td>6</td>\n",
       "      <td>[6, 2, 8, 0, 4, 5]</td>\n",
       "    </tr>\n",
       "    <tr>\n",
       "      <th>1</th>\n",
       "      <td>0</td>\n",
       "      <td>[0, 8, 2]</td>\n",
       "    </tr>\n",
       "    <tr>\n",
       "      <th>2</th>\n",
       "      <td>5</td>\n",
       "      <td>[8, 3, 9, 7, 0, 5, 4]</td>\n",
       "    </tr>\n",
       "    <tr>\n",
       "      <th>3</th>\n",
       "      <td>4</td>\n",
       "      <td>[4, 9]</td>\n",
       "    </tr>\n",
       "    <tr>\n",
       "      <th>4</th>\n",
       "      <td>9</td>\n",
       "      <td>[9, 4, 8, 7, 2, 5, 3, 0]</td>\n",
       "    </tr>\n",
       "    <tr>\n",
       "      <th>...</th>\n",
       "      <td>...</td>\n",
       "      <td>...</td>\n",
       "    </tr>\n",
       "    <tr>\n",
       "      <th>9895</th>\n",
       "      <td>2</td>\n",
       "      <td>[2]</td>\n",
       "    </tr>\n",
       "    <tr>\n",
       "      <th>9896</th>\n",
       "      <td>3</td>\n",
       "      <td>[3]</td>\n",
       "    </tr>\n",
       "    <tr>\n",
       "      <th>9897</th>\n",
       "      <td>4</td>\n",
       "      <td>[4, 9, 8]</td>\n",
       "    </tr>\n",
       "    <tr>\n",
       "      <th>9898</th>\n",
       "      <td>5</td>\n",
       "      <td>[8, 6, 4, 0, 5, 1, 3, 2]</td>\n",
       "    </tr>\n",
       "    <tr>\n",
       "      <th>9899</th>\n",
       "      <td>6</td>\n",
       "      <td>[6]</td>\n",
       "    </tr>\n",
       "  </tbody>\n",
       "</table>\n",
       "<p>9900 rows × 2 columns</p>\n",
       "</div>"
      ],
      "text/plain": [
       "      true_class           prediction_list\n",
       "0              6        [6, 2, 8, 0, 4, 5]\n",
       "1              0                 [0, 8, 2]\n",
       "2              5     [8, 3, 9, 7, 0, 5, 4]\n",
       "3              4                    [4, 9]\n",
       "4              9  [9, 4, 8, 7, 2, 5, 3, 0]\n",
       "...          ...                       ...\n",
       "9895           2                       [2]\n",
       "9896           3                       [3]\n",
       "9897           4                 [4, 9, 8]\n",
       "9898           5  [8, 6, 4, 0, 5, 1, 3, 2]\n",
       "9899           6                       [6]\n",
       "\n",
       "[9900 rows x 2 columns]"
      ]
     },
     "metadata": {},
     "output_type": "display_data"
    }
   ],
   "source": [
    "results = run_predictions_data(remaining_test_data)\n",
    "display(results)"
   ]
  },
  {
   "cell_type": "markdown",
   "id": "09aaa66b-49cb-415c-a266-01b299dbdeb8",
   "metadata": {},
   "source": [
    "### Some data"
   ]
  },
  {
   "cell_type": "markdown",
   "id": "c2a211b7-f8a1-4e41-aaf2-f777264d52d3",
   "metadata": {},
   "source": [
    "Let's see the average list size for correctly predicted classes vs incorrect ones."
   ]
  },
  {
   "cell_type": "markdown",
   "id": "aed9535b-cf03-4c98-8399-1887f2858dae",
   "metadata": {},
   "source": [
    "**No hi ha classes correctes i incorrectes com a tal, però entenc que no té sentit retornar el conjunt sense ordre...**"
   ]
  },
  {
   "cell_type": "code",
   "execution_count": 39,
   "id": "01d34277-6840-41a4-8594-39f96552aaf0",
   "metadata": {},
   "outputs": [],
   "source": [
    "sizes_correct = {length: 0 for length in range(1, 11)}\n",
    "sizes_incorrect = {length: 0 for length in range(1, 11)}\n",
    "\n",
    "def calculate_sizes(row):\n",
    "    if row['true_class'] == row['prediction_list'][0]:\n",
    "        sizes_correct[len(row['prediction_list'])] += 1\n",
    "    else:\n",
    "        sizes_incorrect[len(row['prediction_list'])] += 1\n",
    "\n",
    "model.eval()\n",
    "with torch.no_grad():\n",
    "    results.apply(calculate_sizes, axis=1)"
   ]
  },
  {
   "cell_type": "code",
   "execution_count": 40,
   "id": "0f8922fc-028a-4bac-8c07-493bca55e4b9",
   "metadata": {},
   "outputs": [],
   "source": [
    "def compute_avg_size(sizes):\n",
    "    total = sum(sizes.values())\n",
    "    relative = {length: size/total for length, size in sizes.items()}\n",
    "    avg_size = sum(length*percent for length, percent in relative.items())\n",
    "    return avg_size"
   ]
  },
  {
   "cell_type": "code",
   "execution_count": 41,
   "id": "d5dac1bc-fc30-4577-a8eb-f5e826c64856",
   "metadata": {},
   "outputs": [
    {
     "name": "stdout",
     "output_type": "stream",
     "text": [
      "4.2732073700269915\n",
      "6.912980420594633\n"
     ]
    }
   ],
   "source": [
    "print(compute_avg_size(sizes_correct))\n",
    "print(compute_avg_size(sizes_incorrect))"
   ]
  },
  {
   "cell_type": "code",
   "execution_count": 42,
   "id": "33538575-7b47-4f66-9b0e-ce3bf47e54f0",
   "metadata": {},
   "outputs": [],
   "source": [
    "sizes_total = {length: sizes_correct[length]+sizes_incorrect[length] for length in sizes_correct}"
   ]
  },
  {
   "cell_type": "code",
   "execution_count": 43,
   "id": "78bf2da9-83cf-421b-84dd-0bd7c0d4ba33",
   "metadata": {},
   "outputs": [],
   "source": [
    "def plot_histogram(sizes, name):\n",
    "    keys, values = list(sizes.keys()), list(sizes.values())\n",
    "    plt.bar(keys, values)\n",
    "    plt.xlabel('Categories')\n",
    "    plt.ylabel('Frequency')\n",
    "    plt.title('Histogram')\n",
    "    plt.show()"
   ]
  },
  {
   "cell_type": "code",
   "execution_count": 44,
   "id": "b8b94c62-646b-4f1b-ba68-a364d881961b",
   "metadata": {},
   "outputs": [
    {
     "data": {
      "image/png": "[encoded data removed]",
      "text/plain": [
       "<Figure size 640x480 with 1 Axes>"
      ]
     },
     "metadata": {},
     "output_type": "display_data"
    }
   ],
   "source": [
    "plot_histogram(sizes_correct, 'Correct')"
   ]
  },
  {
   "cell_type": "code",
   "execution_count": 45,
   "id": "fa9d7a02-b4b2-4545-be1a-d13e1c6a3e76",
   "metadata": {},
   "outputs": [
    {
     "data": {
      "image/png": "[encoded data removed]",
      "text/plain": [
       "<Figure size 640x480 with 1 Axes>"
      ]
     },
     "metadata": {},
     "output_type": "display_data"
    }
   ],
   "source": [
    "plot_histogram(sizes_incorrect, 'Incorrect')"
   ]
  },
  {
   "cell_type": "code",
   "execution_count": 46,
   "id": "bf42a6c2-f664-4795-9ac4-21370338d9d9",
   "metadata": {},
   "outputs": [
    {
     "data": {
      "image/png": "[encoded data removed]",
      "text/plain": [
       "<Figure size 640x480 with 1 Axes>"
      ]
     },
     "metadata": {},
     "output_type": "display_data"
    }
   ],
   "source": [
    "plot_histogram(sizes_total, 'Total')"
   ]
  },
  {
   "cell_type": "code",
   "execution_count": null,
   "id": "0c1b36fa-22c2-4c84-992f-5e6235bd4449",
   "metadata": {},
   "outputs": [],
   "source": []
  }
 ],
 "metadata": {
  "kernelspec": {
   "display_name": "Python 3 (ipykernel)",
   "language": "python",
   "name": "python3"
  },
  "language_info": {
   "codemirror_mode": {
    "name": "ipython",
    "version": 3
   },
   "file_extension": ".py",
   "mimetype": "text/x-python",
   "name": "python",
   "nbconvert_exporter": "python",
   "pygments_lexer": "ipython3",
   "version": "3.10.13"
  }
 },
 "nbformat": 4,
 "nbformat_minor": 5
}
